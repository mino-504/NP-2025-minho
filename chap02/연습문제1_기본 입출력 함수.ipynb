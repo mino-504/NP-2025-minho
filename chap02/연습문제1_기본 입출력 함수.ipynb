{
 "cells": [
  {
   "cell_type": "markdown",
   "id": "4d5ece2c",
   "metadata": {},
   "source": [
    "## 기본 입출력 함수 연습문제 (NP2-1 p.8)"
   ]
  },
  {
   "cell_type": "markdown",
   "id": "97200f88",
   "metadata": {},
   "source": [
    "---"
   ]
  },
  {
   "cell_type": "markdown",
   "id": "d8e7fb83",
   "metadata": {},
   "source": [
    "1. 키보드에서 임의의 두 실수를 입력 받아 곱한 후 그 결과를 출력하는 프로그램을 작성하고 실행하라"
   ]
  },
  {
   "cell_type": "code",
   "execution_count": 3,
   "id": "bd695d41",
   "metadata": {},
   "outputs": [
    {
     "name": "stdout",
     "output_type": "stream",
     "text": [
      "24\n"
     ]
    }
   ],
   "source": [
    "a = int(input('Number1: '))   #3\n",
    "b = int(input('Number2: '))   #8\n",
    "print (a * b)   #24"
   ]
  },
  {
   "cell_type": "markdown",
   "id": "2aed9deb",
   "metadata": {},
   "source": [
    "2. 1마일은 1.609km이다. 키보드에서 마일(정수)을 입력 받아 km로 변환해 출력하는 프로그램을 작성하고 실행하라"
   ]
  },
  {
   "cell_type": "code",
   "execution_count": 4,
   "id": "801e94f4",
   "metadata": {},
   "outputs": [
    {
     "name": "stdout",
     "output_type": "stream",
     "text": [
      "4.827\n"
     ]
    }
   ],
   "source": [
    "a = int(input('마일: '))   #3\n",
    "print(a * 1.609)   #4.827"
   ]
  },
  {
   "cell_type": "markdown",
   "id": "b79057be",
   "metadata": {},
   "source": [
    "3. 원의 반지름을 입력 받아 원의 둘레와 원의 면적을 출력하는 프로그램을 작성하라"
   ]
  },
  {
   "cell_type": "code",
   "execution_count": 8,
   "id": "a0bcc94f",
   "metadata": {},
   "outputs": [
    {
     "name": "stdout",
     "output_type": "stream",
     "text": [
      "31.4\n",
      "78.5\n"
     ]
    }
   ],
   "source": [
    "r = int(input('반지름: '))   #5\n",
    "print(round(2 * 3.14 * r, 2))   #31.4\n",
    "print(round(3.14 * r * r, 2))   #78.5"
   ]
  },
  {
   "cell_type": "markdown",
   "id": "3ad57259",
   "metadata": {},
   "source": [
    "---"
   ]
  },
  {
   "cell_type": "code",
   "execution_count": null,
   "id": "a4f51704",
   "metadata": {},
   "outputs": [],
   "source": []
  }
 ],
 "metadata": {
  "kernelspec": {
   "display_name": "base",
   "language": "python",
   "name": "python3"
  },
  "language_info": {
   "codemirror_mode": {
    "name": "ipython",
    "version": 3
   },
   "file_extension": ".py",
   "mimetype": "text/x-python",
   "name": "python",
   "nbconvert_exporter": "python",
   "pygments_lexer": "ipython3",
   "version": "3.11.7"
  }
 },
 "nbformat": 4,
 "nbformat_minor": 5
}
