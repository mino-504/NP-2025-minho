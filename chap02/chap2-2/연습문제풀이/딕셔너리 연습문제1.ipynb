{
 "cells": [
  {
   "cell_type": "markdown",
   "id": "62267abd",
   "metadata": {},
   "source": [
    "# 딕셔너리 연습문제1"
   ]
  },
  {
   "cell_type": "markdown",
   "id": "e2a1dcca",
   "metadata": {},
   "source": [
    "### 다음 딕셔너리에 대해 물음에 답하라."
   ]
  },
  {
   "cell_type": "markdown",
   "id": "a6d7438f",
   "metadata": {},
   "source": [
    "days = {'January':31, 'February': 28, 'March': 31, 'April':30, 'May':31, 'June':30, 'July':31, 'August':31, 'September':30, 'October':31, 'November':30, 'December':31}"
   ]
  },
  {
   "cell_type": "markdown",
   "id": "adf458d7",
   "metadata": {},
   "source": [
    " - 사용자가 월을 입력하면 해당 월에 일수를 출력하라\n",
    " - 알파벳 순서로 모든 월을 출력하라\n",
    " - 일수가 31인 월을 모두 출력하라\n",
    " - 월의 일수를 기준으로 오름차순으로 (key-value) 쌍을 출력하라\n",
    " - 사용자가 월을 3자리만 입력하면 월의 일수를 출력하라.(Jan, Feb 등)"
   ]
  },
  {
   "cell_type": "code",
   "execution_count": null,
   "id": "d089d46c",
   "metadata": {},
   "outputs": [
    {
     "name": "stdout",
     "output_type": "stream",
     "text": [
      "31\n",
      "April August December February January July June March May November October September \n",
      "January March May July August October December \n"
     ]
    }
   ],
   "source": [
    "days = {'January':31, 'February': 28, 'March': 31, 'April':30, 'May':31, 'June':30, 'July':31, 'August':31, 'September':30, 'October':31, 'November':30, 'December':31}\n",
    "\n",
    "#사용자가 월을 입력하면 해당 월에 일수를 출력하라\n",
    "month = int(input(\"월을 입력하세요: \"))  #5\n",
    "keys = list(days.keys())           #['January', 'February', 'March', 'April', 'May', 'June', 'July', 'August', 'September', 'October', 'November', 'December']\n",
    "second_key = keys[month-1]         #'May'\n",
    "value = days[second_key]           #31\n",
    "print(value)\n",
    "print()\n",
    "\n",
    "#알파벳 순서로 모든 월을 출력하라\n",
    "for month in sorted(days.keys()):\n",
    "    print(month, end=' ')\n",
    "print()\n",
    "\n",
    "#일수가 31인 월을 모두 출력하라\n",
    "for month in days.keys():\n",
    "    if days[month] == 31:\n",
    "        print(month, end=' ')\n",
    "print()"
   ]
  },
  {
   "cell_type": "code",
   "execution_count": null,
   "id": "7ea50697",
   "metadata": {},
   "outputs": [],
   "source": []
  }
 ],
 "metadata": {
  "kernelspec": {
   "display_name": "base",
   "language": "python",
   "name": "python3"
  },
  "language_info": {
   "codemirror_mode": {
    "name": "ipython",
    "version": 3
   },
   "file_extension": ".py",
   "mimetype": "text/x-python",
   "name": "python",
   "nbconvert_exporter": "python",
   "pygments_lexer": "ipython3",
   "version": "3.11.7"
  }
 },
 "nbformat": 4,
 "nbformat_minor": 5
}
