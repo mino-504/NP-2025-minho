{
 "cells": [
  {
   "cell_type": "markdown",
   "id": "4b6f6387",
   "metadata": {},
   "source": [
    "# 연습문제 1"
   ]
  },
  {
   "cell_type": "markdown",
   "id": "1128e325",
   "metadata": {},
   "source": [
    "### 3명 이상 친구 이름 리스트를 작성하고 다음 내용을 프로그램하시오"
   ]
  },
  {
   "cell_type": "markdown",
   "id": "a09d8312",
   "metadata": {},
   "source": [
    " - insert()로 맨 앞에 새로운 친구 추가   \n",
    " - insert()로 3번째 위치에 새로운 친구 추가\n",
    " - append()로 마지막에 친추 추가\n"
   ]
  },
  {
   "cell_type": "code",
   "execution_count": 4,
   "id": "56fe7a7a",
   "metadata": {},
   "outputs": [
    {
     "name": "stdout",
     "output_type": "stream",
     "text": [
      "['강찬희', '안치성', '신연준', '김민상']\n",
      "['강찬희', '안치성', '문효원', '신연준', '김민상']\n",
      "['강찬희', '안치성', '문효원', '신연준', '김민상', '이호현']\n"
     ]
    }
   ],
   "source": [
    "a = ['안치성', '신연준', '김민상']\n",
    "a.insert(0, '강찬희')\n",
    "print(a)\n",
    "\n",
    "a.insert(2, '문효원')\n",
    "print(a)\n",
    "\n",
    "a.append('이호현')\n",
    "print(a)\n"
   ]
  },
  {
   "cell_type": "markdown",
   "id": "ef847370",
   "metadata": {},
   "source": [
    "### 리스트[1, 2, 3]에 대해 다음과 같은 처리를 하라."
   ]
  },
  {
   "cell_type": "markdown",
   "id": "5af944d7",
   "metadata": {},
   "source": [
    " - 두 번째 요소를 17로 수정\n",
    " - 리스트에 4, 5, 6을 추가\n",
    " - 첫 번째 요소 제거\n",
    " - 리스트를 요소 순서대로 배열하기\n",
    " - 인덱스 3에 25넣기"
   ]
  },
  {
   "cell_type": "code",
   "execution_count": 8,
   "id": "a29549ed",
   "metadata": {},
   "outputs": [
    {
     "name": "stdout",
     "output_type": "stream",
     "text": [
      "[1, 2, 3]\n",
      "[1, 17, 3]\n",
      "[1, 17, 3, 4, 5, 6]\n",
      "[17, 3, 4, 5, 6]\n",
      "[3, 4, 5, 6, 17]\n",
      "[3, 4, 5, 25, 6, 17]\n"
     ]
    }
   ],
   "source": [
    "list = [1, 2, 3]\n",
    "print(list)\n",
    "list[1] = 17\n",
    "print(list)\n",
    "list.append(4)\n",
    "list.append(5)\n",
    "list.append(6)\n",
    "print(list)\n",
    "list.pop(0)\n",
    "print(list)\n",
    "list.sort()\n",
    "print(list)\n",
    "list.insert(3, 25)\n",
    "print(list)\n"
   ]
  },
  {
   "cell_type": "code",
   "execution_count": null,
   "id": "b50e899c",
   "metadata": {},
   "outputs": [],
   "source": []
  }
 ],
 "metadata": {
  "kernelspec": {
   "display_name": "base",
   "language": "python",
   "name": "python3"
  },
  "language_info": {
   "codemirror_mode": {
    "name": "ipython",
    "version": 3
   },
   "file_extension": ".py",
   "mimetype": "text/x-python",
   "name": "python",
   "nbconvert_exporter": "python",
   "pygments_lexer": "ipython3",
   "version": "3.11.7"
  }
 },
 "nbformat": 4,
 "nbformat_minor": 5
}
