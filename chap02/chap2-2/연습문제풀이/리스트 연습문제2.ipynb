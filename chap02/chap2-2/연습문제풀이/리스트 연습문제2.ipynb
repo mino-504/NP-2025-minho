{
 "cells": [
  {
   "cell_type": "markdown",
   "id": "1a8d8847",
   "metadata": {},
   "source": [
    "# 연습문제2"
   ]
  },
  {
   "cell_type": "markdown",
   "id": "c3402a30",
   "metadata": {},
   "source": [
    "### 1. for 루프를 이용하여 다음과 같은 리스트를 생성하라."
   ]
  },
  {
   "cell_type": "markdown",
   "id": "5ccbc77f",
   "metadata": {},
   "source": [
    " - 0~49까지의 수로 구성되는 리스트\n",
    " - 1~50까지 수의 제곱으로 구성되는 리스트"
   ]
  },
  {
   "cell_type": "code",
   "execution_count": 6,
   "id": "050b2edd",
   "metadata": {},
   "outputs": [
    {
     "name": "stdout",
     "output_type": "stream",
     "text": [
      "[0, 1, 2, 3, 4, 5, 6, 7, 8, 9, 10, 11, 12, 13, 14, 15, 16, 17, 18, 19, 20, 21, 22, 23, 24, 25, 26, 27, 28, 29, 30, 31, 32, 33, 34, 35, 36, 37, 38, 39, 40, 41, 42, 43, 44, 45, 46, 47, 48, 49]\n"
     ]
    }
   ],
   "source": [
    "list = []\n",
    "for i in range(50):\n",
    "    list.append(i)\n",
    "print(list)"
   ]
  },
  {
   "cell_type": "code",
   "execution_count": 7,
   "id": "080e65e8",
   "metadata": {},
   "outputs": [
    {
     "name": "stdout",
     "output_type": "stream",
     "text": [
      "[1, 4, 9, 16, 25, 36, 49, 64, 81, 100, 121, 144, 169, 196, 225, 256, 289, 324, 361, 400, 441, 484, 529, 576, 625, 676, 729, 784, 841, 900, 961, 1024, 1089, 1156, 1225, 1296, 1369, 1444, 1521, 1600, 1681, 1764, 1849, 1936, 2025, 2116, 2209, 2304, 2401, 2500]\n"
     ]
    }
   ],
   "source": [
    "list = []\n",
    "for i in range(1,51):\n",
    "    list.append(i**2)\n",
    "print(list)"
   ]
  },
  {
   "cell_type": "markdown",
   "id": "855f9ba1",
   "metadata": {},
   "source": [
    "---"
   ]
  },
  {
   "cell_type": "markdown",
   "id": "976e72b8",
   "metadata": {},
   "source": [
    "### 2. 크기가 같은 두 개의 리스트 L, M을 생성하고 두 리스트의 각 요소 합으로 구성되는 새로운 리스트를 생성하라. 예를 들어 L=[1,2,3]이고 M = [4, 5, 6]이면 [5, 7, 9]인 리스트 생성"
   ]
  },
  {
   "cell_type": "code",
   "execution_count": 10,
   "id": "74c24db6",
   "metadata": {},
   "outputs": [
    {
     "name": "stdout",
     "output_type": "stream",
     "text": [
      "[5, 7, 9]\n"
     ]
    }
   ],
   "source": [
    "L = [1, 2, 3]\n",
    "M = [4, 5, 6]\n",
    "N = []\n",
    "for i in range(len(L)):\n",
    "    N.append(L[i] + M[i])\n",
    "print(N)"
   ]
  },
  {
   "cell_type": "markdown",
   "id": "60f9c397",
   "metadata": {},
   "source": [
    "---"
   ]
  },
  {
   "cell_type": "markdown",
   "id": "79a684b9",
   "metadata": {},
   "source": [
    "### 3. 사용자로부터 5개의 숫자를 문자열로 입력 받아 각 숫자를 +로 연결한 문자열을 생성하라. 예를 들어 2, 5, 11, 33, 55를 입력하면 '2+5+11+33+55'와 같은 문자열을 생성하라."
   ]
  },
  {
   "cell_type": "code",
   "execution_count": null,
   "id": "cbfb0c0a",
   "metadata": {},
   "outputs": [
    {
     "name": "stdout",
     "output_type": "stream",
     "text": [
      "2+5+11+33+55\n"
     ]
    }
   ],
   "source": [
    "a = input(\"5개의 숫자를 입력하세요(띄어쓰기 생략): \")\n",
    "b = a.split(',')\n",
    "c = '+'.join(b)\n",
    "print(c)"
   ]
  },
  {
   "cell_type": "markdown",
   "id": "03bf60ec",
   "metadata": {},
   "source": [
    "---"
   ]
  }
 ],
 "metadata": {
  "kernelspec": {
   "display_name": "base",
   "language": "python",
   "name": "python3"
  },
  "language_info": {
   "codemirror_mode": {
    "name": "ipython",
    "version": 3
   },
   "file_extension": ".py",
   "mimetype": "text/x-python",
   "name": "python",
   "nbconvert_exporter": "python",
   "pygments_lexer": "ipython3",
   "version": "3.11.7"
  }
 },
 "nbformat": 4,
 "nbformat_minor": 5
}
