{
 "cells": [
  {
   "cell_type": "markdown",
   "id": "7e0ef025",
   "metadata": {},
   "source": [
    "## 2-2장 코드정리\n",
    "\n",
    "이 파일은 2장 학습하면서 실행한 내용을 정리한 것이다.\n",
    "\n",
    "날짜 : 2025.9.9\n",
    "\n",
    "학번 : 202011578\n",
    "\n",
    "저자 : 최민호    \n",
    "\n",
    "----------"
   ]
  },
  {
   "cell_type": "markdown",
   "id": "a7e93c0f",
   "metadata": {},
   "source": [
    "# __파이썬 자료구조__"
   ]
  },
  {
   "cell_type": "markdown",
   "id": "5e53904e",
   "metadata": {},
   "source": [
    "## 자료 구조(data structure)란?\n",
    "자료를 표현 + 처리하기 위해 사용되는 구조\n",
    "자료를 효율적으로 처리 + 저장하는 데 사용\n",
    "파이썬에서 사용되는 기본 자료 구조\n",
    " - 문자열(string) : str = 'abcde' 홑/겹 따옴표로 묶인 문자열\n",
    " - 리스트(list) : list = [1, 2, 3, 4] 순서가 있는 원소(객체)의 목록\n",
    " - 튜플(tuple) : (1,2,3)  immutable 한 데이터의 쌍\n",
    " - 딕셔너리(dictionary) : dic = {'a':1, 'b':23, 'c':32} 유일한 키로 이루어진 키:값의 집합\n",
    " - 집합(set) : set = {1,5,3,2} 유일한 값들의 집합"
   ]
  },
  {
   "cell_type": "markdown",
   "id": "a46dee15",
   "metadata": {},
   "source": [
    "---"
   ]
  },
  {
   "cell_type": "markdown",
   "id": "7ba9b0c0",
   "metadata": {},
   "source": [
    "# __문자열(String)__"
   ]
  },
  {
   "cell_type": "markdown",
   "id": "944941d5",
   "metadata": {},
   "source": [
    "## 문자열의 구조   \n",
    "다수의 문자를 표현하기 위한 자료구조   \n",
    ">문자열이름 = \"글씨들\" (또는 '글씨들')   \n",
    ">(예) word = \"Python\" (word = 'Python')"
   ]
  },
  {
   "cell_type": "markdown",
   "id": "4ad145e4",
   "metadata": {},
   "source": [
    "\" 또는 \"\"로 둘러싼다: \"abc\", 'hello'  \n",
    "\n",
    "\n",
    "'''(\"\"\") 부터 '''(\"\"\")까지 문자: 문자열이 두 줄 이상일 때 주로 사용"
   ]
  },
  {
   "cell_type": "code",
   "execution_count": 8,
   "id": "a4b2d8f3",
   "metadata": {},
   "outputs": [
    {
     "name": "stdout",
     "output_type": "stream",
     "text": [
      "\n",
      "Hello Python\n",
      "\n",
      "\n",
      "Hello Python\n",
      "\n"
     ]
    }
   ],
   "source": [
    "print('''\n",
    "Hello Python\n",
    "''')\n",
    "print(\"\"\"\n",
    "Hello Python\n",
    "\"\"\")"
   ]
  },
  {
   "cell_type": "markdown",
   "id": "f7b565ad",
   "metadata": {},
   "source": [
    "---"
   ]
  },
  {
   "cell_type": "markdown",
   "id": "2d93b4bd",
   "metadata": {},
   "source": [
    "## 문자열 요소(문자)를 개별적으로 사용하기-index"
   ]
  },
  {
   "cell_type": "code",
   "execution_count": 11,
   "id": "2051e6ce",
   "metadata": {},
   "outputs": [
    {
     "name": "stdout",
     "output_type": "stream",
     "text": [
      "P\n",
      "n\n"
     ]
    }
   ],
   "source": [
    "word = \"Python\"\n",
    "print(word[0])  #'P'\n",
    "print(word[5])  #'n'"
   ]
  },
  {
   "cell_type": "code",
   "execution_count": 12,
   "id": "50da36cf",
   "metadata": {},
   "outputs": [
    {
     "name": "stdout",
     "output_type": "stream",
     "text": [
      "n\n",
      "P\n"
     ]
    }
   ],
   "source": [
    "word = \"Python\"\n",
    "print(word[-1])  #'n'\n",
    "print(word[-6])  #'P'"
   ]
  },
  {
   "cell_type": "markdown",
   "id": "8dd9f20f",
   "metadata": {},
   "source": [
    "---"
   ]
  },
  {
   "cell_type": "markdown",
   "id": "913d7cf1",
   "metadata": {},
   "source": [
    "## 문자열 슬라이싱(잘라내기)"
   ]
  },
  {
   "cell_type": "code",
   "execution_count": 14,
   "id": "6099e13d",
   "metadata": {},
   "outputs": [
    {
     "name": "stdout",
     "output_type": "stream",
     "text": [
      "Py\n",
      "tho\n",
      "Py\n",
      "on\n",
      "on\n"
     ]
    }
   ],
   "source": [
    "word = \"Python\"\n",
    "print(word[0:2])  #'Py'\n",
    "print(word[2:5])  #'tho'\n",
    "print(word[:2])  #'Py'\n",
    "print(word[4:])  #'on'\n",
    "print(word[-2:])  #'on'\n"
   ]
  },
  {
   "cell_type": "code",
   "execution_count": 16,
   "id": "8ec32e52",
   "metadata": {},
   "outputs": [
    {
     "name": "stdout",
     "output_type": "stream",
     "text": [
      "Py\n",
      "thon\n",
      "Python\n"
     ]
    }
   ],
   "source": [
    "word = \"Python\"\n",
    "print(word[:2])  #'Py'\n",
    "print(word[2:])  #'thon'\n",
    "print(word[:2] + word[2:])  #'Python'"
   ]
  },
  {
   "cell_type": "markdown",
   "id": "6a916386",
   "metadata": {},
   "source": [
    "---"
   ]
  },
  {
   "cell_type": "markdown",
   "id": "0541e2d1",
   "metadata": {},
   "source": [
    "## 문자열 인덱싱과 슬라이싱 오류"
   ]
  },
  {
   "cell_type": "code",
   "execution_count": 17,
   "id": "52fda03e",
   "metadata": {},
   "outputs": [
    {
     "ename": "IndexError",
     "evalue": "string index out of range",
     "output_type": "error",
     "traceback": [
      "\u001b[1;31m---------------------------------------------------------------------------\u001b[0m",
      "\u001b[1;31mIndexError\u001b[0m                                Traceback (most recent call last)",
      "Cell \u001b[1;32mIn[17], line 1\u001b[0m\n\u001b[1;32m----> 1\u001b[0m \u001b[38;5;28mprint\u001b[39m(word[\u001b[38;5;241m42\u001b[39m])\n",
      "\u001b[1;31mIndexError\u001b[0m: string index out of range"
     ]
    }
   ],
   "source": [
    "print(word[42])  # 6개 문자로 구성되어 있을 때"
   ]
  },
  {
   "cell_type": "code",
   "execution_count": 18,
   "id": "96da668b",
   "metadata": {},
   "outputs": [
    {
     "name": "stdout",
     "output_type": "stream",
     "text": [
      "on\n",
      "\n"
     ]
    }
   ],
   "source": [
    "print(word[4:42]) #슬라이싱에서는 범위를 벗어나도 OK\n",
    "\n",
    "print(word[42:]) #범위를 벗어난 슬라이싱\n"
   ]
  },
  {
   "cell_type": "markdown",
   "id": "8449261f",
   "metadata": {},
   "source": [
    "---"
   ]
  },
  {
   "cell_type": "markdown",
   "id": "39afd484",
   "metadata": {},
   "source": [
    "## 문자열은 수정 불가 - immutable"
   ]
  },
  {
   "cell_type": "code",
   "execution_count": 21,
   "id": "20ee413c",
   "metadata": {},
   "outputs": [
    {
     "ename": "SyntaxError",
     "evalue": "expression cannot contain assignment, perhaps you meant \"==\"? (2251681932.py, line 1)",
     "output_type": "error",
     "traceback": [
      "\u001b[1;36m  Cell \u001b[1;32mIn[21], line 1\u001b[1;36m\u001b[0m\n\u001b[1;33m    print(word[0] = 'J')\u001b[0m\n\u001b[1;37m          ^\u001b[0m\n\u001b[1;31mSyntaxError\u001b[0m\u001b[1;31m:\u001b[0m expression cannot contain assignment, perhaps you meant \"==\"?\n"
     ]
    }
   ],
   "source": [
    "print(word[0] = 'J')"
   ]
  },
  {
   "cell_type": "markdown",
   "id": "a3356caa",
   "metadata": {},
   "source": [
    "---"
   ]
  },
  {
   "cell_type": "markdown",
   "id": "c5524e92",
   "metadata": {},
   "source": [
    "## 슬라이싱을 이용하여 새로운 문자열 만들기"
   ]
  },
  {
   "cell_type": "code",
   "execution_count": 23,
   "id": "7ba13217",
   "metadata": {},
   "outputs": [
    {
     "name": "stdout",
     "output_type": "stream",
     "text": [
      "Jython\n"
     ]
    }
   ],
   "source": [
    "word = \"Python\"\n",
    "word2 = 'J' + word[1:]\n",
    "print(word2)  #'Jython'"
   ]
  },
  {
   "cell_type": "markdown",
   "id": "1854dd21",
   "metadata": {},
   "source": [
    "---"
   ]
  },
  {
   "cell_type": "markdown",
   "id": "5945e441",
   "metadata": {},
   "source": [
    "## 문자열 길이 확인-len()"
   ]
  },
  {
   "cell_type": "code",
   "execution_count": 27,
   "id": "53a7d99c",
   "metadata": {},
   "outputs": [
    {
     "data": {
      "text/plain": [
       "6"
      ]
     },
     "execution_count": 27,
     "metadata": {},
     "output_type": "execute_result"
    }
   ],
   "source": [
    "s = 'smiles'\n",
    "len(s)  #6"
   ]
  },
  {
   "cell_type": "markdown",
   "id": "60b01028",
   "metadata": {},
   "source": [
    "---"
   ]
  },
  {
   "cell_type": "markdown",
   "id": "2184c646",
   "metadata": {},
   "source": [
    "## index를 이용하여 문자열의 문자를 역순으로 만들기"
   ]
  },
  {
   "cell_type": "code",
   "execution_count": null,
   "id": "ff5e7a61",
   "metadata": {},
   "outputs": [
    {
     "name": "stdout",
     "output_type": "stream",
     "text": [
      "Reversed string : 기들만 로으순역 를자문\n"
     ]
    }
   ],
   "source": [
    "## 변수 초기화 부분 ##\n",
    "outStr = \"\" #출력 문자열(빈 문자열)\n",
    "count, i = 0, 0\n",
    "\n",
    "## 메인 코드 부분 ##\n",
    "inStr = input(\"Type string : \")  #문자를 역순으로 만들기\n",
    "count = len(inStr) # 문자열의 길이\n",
    "\n",
    "for i in range(0, count):\n",
    "    outStr += inStr[count - (i + 1)]  #마지막 문자부터 추출하여 합치기\n",
    "print(\"Reversed string : %s\" % outStr)"
   ]
  },
  {
   "cell_type": "markdown",
   "id": "4ad1aca8",
   "metadata": {},
   "source": [
    "---"
   ]
  },
  {
   "cell_type": "markdown",
   "id": "b9b70206",
   "metadata": {},
   "source": [
    "## 문자열에서 문자 조사하기 - in/not in 연산자(멤버 연산자)"
   ]
  },
  {
   "cell_type": "code",
   "execution_count": 29,
   "id": "404022d3",
   "metadata": {},
   "outputs": [
    {
     "data": {
      "text/plain": [
       "True"
      ]
     },
     "execution_count": 29,
     "metadata": {},
     "output_type": "execute_result"
    }
   ],
   "source": [
    "'a' in 'cat'"
   ]
  },
  {
   "cell_type": "code",
   "execution_count": 30,
   "id": "d8c35d36",
   "metadata": {},
   "outputs": [
    {
     "data": {
      "text/plain": [
       "False"
      ]
     },
     "execution_count": 30,
     "metadata": {},
     "output_type": "execute_result"
    }
   ],
   "source": [
    "'a' not in 'can'"
   ]
  },
  {
   "cell_type": "markdown",
   "id": "de8bea36",
   "metadata": {},
   "source": [
    "---"
   ]
  },
  {
   "cell_type": "markdown",
   "id": "a62b3d7e",
   "metadata": {},
   "source": [
    "## 문자열과 메소드-dir(str), help(str.method)   \n",
    " - 파이썬은 객체지향 언어로 '객체'(object)가 많이 사용됨.\n",
    " - 객체는 변수와 함수를 묶은 것이다. 문자열도 객체임.\n",
    " - 객체와 관련된 함수를 메소드라 하며 객체.함수()로 호출한다.   \n",
    "    \n"
   ]
  },
  {
   "cell_type": "markdown",
   "id": "4a7ac421",
   "metadata": {},
   "source": [
    "---"
   ]
  },
  {
   "cell_type": "markdown",
   "id": "a98be13b",
   "metadata": {},
   "source": [
    "## 문자열 구성 파악하기"
   ]
  },
  {
   "cell_type": "code",
   "execution_count": 36,
   "id": "08a406d8",
   "metadata": {},
   "outputs": [
    {
     "name": "stdout",
     "output_type": "stream",
     "text": [
      "True\n",
      "True\n",
      "True\n",
      "True\n",
      "True\n",
      "True\n"
     ]
    }
   ],
   "source": [
    "print('123'.isdigit())  #문자열이 숫자인가?\n",
    "print('abcABC'.isalpha())  #문자열이 문자인가?\n",
    "print('Ab122'.isalnum())  #문자열이 문자+숫자 혼합인가?\n",
    "print('AB'.isupper())  #문자열이 대문자인가?\n",
    "print('ab'.islower())  #문자열이 소문자인가?\n",
    "print(' '.isspace())  #문자열이 공백인가?"
   ]
  },
  {
   "cell_type": "markdown",
   "id": "0635604a",
   "metadata": {},
   "source": [
    "---"
   ]
  },
  {
   "cell_type": "markdown",
   "id": "0e3b9b13",
   "metadata": {},
   "source": [
    "## 문자열을 대소문자로 변환하기"
   ]
  },
  {
   "cell_type": "code",
   "execution_count": 39,
   "id": "24090cc7",
   "metadata": {},
   "outputs": [
    {
     "name": "stdout",
     "output_type": "stream",
     "text": [
      "PYTHON PROGRAMMING IS EASY!\n",
      "python programming is easy!\n",
      "pYTHON PROGRAMMING IS EASY!\n",
      "Python Programming Is Easy!\n"
     ]
    }
   ],
   "source": [
    "str = 'Python programming is easy!'\n",
    "print(str.upper())  #대문자로 변환\n",
    "print(str.lower())  #소문자로 변환\n",
    "print(str.swapcase())  #대소문자 바꾸기\n",
    "print(str.title())  #첫 글자를 대문자로 변환"
   ]
  },
  {
   "cell_type": "markdown",
   "id": "57ad454f",
   "metadata": {},
   "source": [
    "---"
   ]
  },
  {
   "cell_type": "markdown",
   "id": "3679c62d",
   "metadata": {},
   "source": [
    "## 문자열 찾기"
   ]
  },
  {
   "cell_type": "code",
   "execution_count": 40,
   "id": "dff70d19",
   "metadata": {},
   "outputs": [
    {
     "name": "stdout",
     "output_type": "stream",
     "text": [
      "2\n",
      "4\n",
      "9\n",
      "4\n"
     ]
    }
   ],
   "source": [
    "str = 'Python programming is easy!'\n",
    "print(str.count('i'))  #문자열에서 문자'i'의 개수\n",
    "print(str.find('o'))  #문자열에서 'o'의 처음 위치. 없으면 -1 반환\n",
    "print(str.rfind('o'))  #문자열에서 'o'가 나오는 가장 나중 위치\n",
    "print(str.index('on'))  #문자열에서 'on'의 처음 위치. 없으면 ValueError"
   ]
  },
  {
   "cell_type": "markdown",
   "id": "06c477a8",
   "metadata": {},
   "source": [
    "---"
   ]
  },
  {
   "cell_type": "markdown",
   "id": "72d2b791",
   "metadata": {},
   "source": [
    "## 문자열에서 공백 제거하기"
   ]
  },
  {
   "cell_type": "code",
   "execution_count": 41,
   "id": "068fed8d",
   "metadata": {},
   "outputs": [
    {
     "name": "stdout",
     "output_type": "stream",
     "text": [
      "hello\n",
      " hello \n",
      " hello\n",
      "hello \n"
     ]
    }
   ],
   "source": [
    "str = ' hello '\n",
    "print(str.strip())   #양쪽에서 공백 제거\n",
    "print(str)           #원래 문자열은 변하지 않는다\n",
    "print(str.rstrip())  #오른쪽에서 공백 제거\n",
    "print(str.lstrip())  #왼쪽에서 공백 제거\n"
   ]
  },
  {
   "cell_type": "markdown",
   "id": "0ea37c14",
   "metadata": {},
   "source": [
    "---"
   ]
  },
  {
   "cell_type": "markdown",
   "id": "66bcff7e",
   "metadata": {},
   "source": [
    "## 문자열 결합하기"
   ]
  },
  {
   "cell_type": "code",
   "execution_count": 42,
   "id": "eab4ff31",
   "metadata": {},
   "outputs": [
    {
     "data": {
      "text/plain": [
       "'h*e*l*l*o'"
      ]
     },
     "execution_count": 42,
     "metadata": {},
     "output_type": "execute_result"
    }
   ],
   "source": [
    "'*'.join('hello')  #*와 문자열의 각 문자를 하나씩 결합한 문자열 생성"
   ]
  },
  {
   "cell_type": "markdown",
   "id": "f7c8862f",
   "metadata": {},
   "source": [
    "---"
   ]
  },
  {
   "cell_type": "markdown",
   "id": "66a779d1",
   "metadata": {},
   "source": [
    "## 문자열 채우기"
   ]
  },
  {
   "cell_type": "code",
   "execution_count": 43,
   "id": "7d3147b9",
   "metadata": {},
   "outputs": [
    {
     "data": {
      "text/plain": [
       "'00012'"
      ]
     },
     "execution_count": 43,
     "metadata": {},
     "output_type": "execute_result"
    }
   ],
   "source": [
    "'12'.zfill(5)  #문자열 '12'의 왼쪽을 0으로 채워 5자리로 만든다"
   ]
  },
  {
   "cell_type": "markdown",
   "id": "6b35d3e5",
   "metadata": {},
   "source": [
    "---"
   ]
  },
  {
   "cell_type": "markdown",
   "id": "a966a156",
   "metadata": {},
   "source": [
    "## 문자열 정렬하기"
   ]
  },
  {
   "cell_type": "code",
   "execution_count": 45,
   "id": "27b05bbb",
   "metadata": {},
   "outputs": [
    {
     "name": "stdout",
     "output_type": "stream",
     "text": [
      "   he\n",
      "he   \n",
      "  he \n"
     ]
    }
   ],
   "source": [
    "print('he'.rjust(5))  #5자리를 오른쪽으로 정렬\n",
    "print('he'.ljust(5))  #5자리를 왼쪽으로 정렬\n",
    "print('he'.center(5))  #5자리를 가운데로 정렬"
   ]
  },
  {
   "cell_type": "markdown",
   "id": "ee7f2c81",
   "metadata": {},
   "source": [
    "---"
   ]
  },
  {
   "cell_type": "markdown",
   "id": "d50c7c53",
   "metadata": {},
   "source": [
    "# __리스트(list)__"
   ]
  },
  {
   "cell_type": "markdown",
   "id": "3379e3d6",
   "metadata": {},
   "source": [
    "## 리스트는 여러 개의 데이터를 하나의 이름으로 저장하는 자료 구조   \n",
    " - 리스트이름 = [항목1, 항목2, ...]"
   ]
  },
  {
   "cell_type": "code",
   "execution_count": 46,
   "id": "c85c5077",
   "metadata": {},
   "outputs": [
    {
     "name": "stdout",
     "output_type": "stream",
     "text": [
      "[1, 4, 9, 16, 25]\n",
      "[]\n",
      "[1, 'hello', 2, 'world', 1.23]\n"
     ]
    }
   ],
   "source": [
    "odd = [1, 3, 5, 7, 9]  #[]를 이용하여 리스트 생성\n",
    "squares = [1, 4, 9, 16, 25]\n",
    "print(squares)\n",
    "\n",
    "empty = []  #공백 리스트. empty = list()\n",
    "print(empty)\n",
    "\n",
    "a = [1, 'hello', 2, 'world', 1.23]  #리스트 요소는 어떤 것이라도 가능\n",
    "print(a)"
   ]
  },
  {
   "cell_type": "markdown",
   "id": "2d9c9b32",
   "metadata": {},
   "source": [
    "---"
   ]
  },
  {
   "cell_type": "markdown",
   "id": "0e51f867",
   "metadata": {},
   "source": [
    "## 리스트의 인덱싱(요소 접근하기)과 슬라이싱(잘라내기)"
   ]
  },
  {
   "cell_type": "code",
   "execution_count": 47,
   "id": "56d3d36c",
   "metadata": {},
   "outputs": [
    {
     "name": "stdout",
     "output_type": "stream",
     "text": [
      "1\n",
      "25\n",
      "[1, 4, 9]\n",
      "[9, 16, 25]\n"
     ]
    }
   ],
   "source": [
    "squares = [1, 4, 9, 16, 25]\n",
    "print(squares[0])   #리스트 요소 추출하기(인덱싱은 0부터)\n",
    "print(squares[-1])  #마지막 요소\n",
    "print(squares[0:3]) #0부터(3-1)까지 잘라내기\n",
    "print(squares[-3:]) #뒤에서 3번째부터 마지막까지 잘라내기"
   ]
  },
  {
   "cell_type": "markdown",
   "id": "c62c88f2",
   "metadata": {},
   "source": [
    "---"
   ]
  },
  {
   "cell_type": "markdown",
   "id": "d7f7cd43",
   "metadata": {},
   "source": [
    "## 리스트 합치기"
   ]
  },
  {
   "cell_type": "code",
   "execution_count": 50,
   "id": "da501ec8",
   "metadata": {},
   "outputs": [
    {
     "name": "stdout",
     "output_type": "stream",
     "text": [
      "[1, 4, 9, 16, 25, 36, 49, 64, 81, 100]\n",
      "[1, 2, 3, 4, 5, 6]\n"
     ]
    }
   ],
   "source": [
    "print(squares + [36, 49, 64, 81, 100])  #리스트 합치기\n",
    "\n",
    "a = [1, 2, 3]\n",
    "b = [4, 5, 6]\n",
    "print(a + b)  #리스트 합치기"
   ]
  },
  {
   "cell_type": "markdown",
   "id": "b27bb27b",
   "metadata": {},
   "source": [
    "---"
   ]
  },
  {
   "cell_type": "markdown",
   "id": "0f252ec2",
   "metadata": {},
   "source": [
    "## 리스트의 요소 수정, 추가하기"
   ]
  },
  {
   "cell_type": "code",
   "execution_count": 54,
   "id": "7a328225",
   "metadata": {},
   "outputs": [
    {
     "name": "stdout",
     "output_type": "stream",
     "text": [
      "64\n",
      "[1, 8, 27, 64, 125]\n",
      "[1, 8, 27, 64, 125, 216, 343]\n"
     ]
    }
   ],
   "source": [
    "# 1. 수정하기\n",
    "cubes = [1, 8, 27, 64, 125]  #세제곱수\n",
    "print(4 ** 3)  # 4의 세제곱은 64!\n",
    "\n",
    "cubes[3] = 64  #리스트 요소 수정하기\n",
    "print(cubes)   #수정된 리스트\n",
    "\n",
    "# 2. 마지막에 요소 추가하기\n",
    "cubes.append(216)  #마지막에 리스트 요소 추가하기\n",
    "cubes.append(7 ** 3)  #마지막에 리스트 요소 추가하기\n",
    "print(cubes)"
   ]
  },
  {
   "cell_type": "markdown",
   "id": "a64b67e7",
   "metadata": {},
   "source": [
    "---"
   ]
  },
  {
   "cell_type": "markdown",
   "id": "58b66f7e",
   "metadata": {},
   "source": [
    "## 리스트의 요소 수정"
   ]
  },
  {
   "cell_type": "code",
   "execution_count": 60,
   "id": "6ca89820",
   "metadata": {},
   "outputs": [
    {
     "name": "stdout",
     "output_type": "stream",
     "text": [
      "['a', 'b', 'c', 'd', 'e', 'f', 'g']\n",
      "\n",
      "['a', 'b', 'C', 'D', 'E', 'f', 'g']\n",
      "\n",
      "['a', 'b', 'f', 'g']\n",
      "\n",
      "[]\n"
     ]
    }
   ],
   "source": [
    "# 1. 요소 수정하기\n",
    "letters = ['a', 'b', 'c', 'd', 'e', 'f', 'g']\n",
    "print(letters)\n",
    "print()  #줄바꿈\n",
    "\n",
    "letters[2:5] = ['C', 'D', 'E']  #리스트 요소 수정\n",
    "print(letters)\n",
    "print()  #줄바꿈\n",
    "\n",
    "letters[2:5] = []  #리스트 요소 삭제\n",
    "print(letters)\n",
    "print()  #줄바꿈\n",
    "\n",
    "letters[:] = []  #리스트 요소 모두 삭제\n",
    "print(letters)"
   ]
  },
  {
   "cell_type": "markdown",
   "id": "814c60b5",
   "metadata": {},
   "source": [
    "---\n"
   ]
  },
  {
   "cell_type": "markdown",
   "id": "54c1d943",
   "metadata": {},
   "source": [
    "## 중첩 리스트"
   ]
  },
  {
   "cell_type": "code",
   "execution_count": 63,
   "id": "659b366e",
   "metadata": {},
   "outputs": [
    {
     "name": "stdout",
     "output_type": "stream",
     "text": [
      "[['a', 'b', 'c'], [1, 2, 3]]\n",
      "\n",
      "['a', 'b', 'c']\n",
      "\n",
      "b\n"
     ]
    }
   ],
   "source": [
    "a = ['a', 'b', 'c']\n",
    "n = [1, 2, 3]\n",
    "x = [a, n]\n",
    "print(x)\n",
    "print()  #줄바꿈\n",
    "\n",
    "print(x[0])\n",
    "print()  #줄바꿈\n",
    "\n",
    "print(x[0][1])"
   ]
  },
  {
   "cell_type": "markdown",
   "id": "af97097f",
   "metadata": {},
   "source": [
    "---"
   ]
  },
  {
   "cell_type": "markdown",
   "id": "f5102802",
   "metadata": {},
   "source": [
    "## 2차원 리스트"
   ]
  },
  {
   "cell_type": "code",
   "execution_count": 64,
   "id": "d2f44a95",
   "metadata": {},
   "outputs": [
    {
     "name": "stdout",
     "output_type": "stream",
     "text": [
      "1\n",
      "\n",
      "9\n"
     ]
    }
   ],
   "source": [
    "list2d = [[1,2,3], [4,5,6], [7,8,9]]  #배열을 나타낼 때 편리\n",
    "print(list2d[0][0])\n",
    "print()  #줄바꿈\n",
    "\n",
    "print(list2d[2][2])"
   ]
  },
  {
   "cell_type": "markdown",
   "id": "d1607a4a",
   "metadata": {},
   "source": [
    "---"
   ]
  },
  {
   "cell_type": "markdown",
   "id": "8307b3c1",
   "metadata": {},
   "source": [
    "## 내장 함수를 이용한 리스트 다루기"
   ]
  },
  {
   "cell_type": "code",
   "execution_count": 66,
   "id": "74652540",
   "metadata": {},
   "outputs": [
    {
     "name": "stdout",
     "output_type": "stream",
     "text": [
      "4\n",
      "\n",
      "15\n",
      "\n",
      "1\n",
      "\n",
      "5\n"
     ]
    }
   ],
   "source": [
    "# 1. 리스트 길이 알아내기\n",
    "letters = ['a', 'b', 'c', 'd']\n",
    "print(len(letters))\n",
    "print()  #줄바꿈\n",
    "\n",
    "# 2. 리스트 요소 합, 최소값, 최대값 구하기\n",
    "num = [1, 2, 3, 4, 5]\n",
    "print(sum(num))\n",
    "print()  #줄바꿈\n",
    "\n",
    "print(min(num))\n",
    "print()  #줄바꿈\n",
    "\n",
    "print(max(num))"
   ]
  },
  {
   "cell_type": "markdown",
   "id": "a600edbd",
   "metadata": {},
   "source": [
    "---"
   ]
  },
  {
   "cell_type": "markdown",
   "id": "10fb0069",
   "metadata": {},
   "source": [
    "## 리스트 메소드(List.Method)   \n",
    "   \n",
    "   \n",
    "|함수명|사용 방법|설명|\n",
    "|---|---|---|\n",
    "|del()|del(List[pos])|List에서 pos 위치의 항목 삭제|\n",
    "|len()|len(List)|List 항목의 전체 개수를 센다|\n",
    "|sorted()|newList = sorted(List)|List 항목을 정렬해 newList 만듬|\n",
    "|append()|List.append(val)|List 맨 뒤에 val 항목 추가|\n",
    "|clear()|list.clear()|List의 내용을 지움|\n",
    "|copy()|newList = List.copy()|List의 내용을 newList에 복사|\n",
    "|count()|List.count(val)|List에서 val 값의 갯수를 센다|\n",
    "|extend()|List.extend(newList)|List 뒤에 newList를 추가|\n",
    "|index()|List.index(val)|val을 찾아 해당 첨자 반환|\n",
    "|insert()|List.insert(pos, val)|List의 pos 위치에 val 삽입|\n",
    "|pop()|List.pop()|List 맨 뒤에서 항목 삭제|\n",
    "|remove()|List.remove(val)|List에서 val 값 항목 삭제(여러 개면 첫번째만)|\n",
    "|reverse()|List.reverse()|List 항목을 뒤집어 역순으로 만듬|\n",
    "|sort()|List.sort()|List 항목을 정렬|"
   ]
  },
  {
   "cell_type": "code",
   "execution_count": 68,
   "id": "49582fcd",
   "metadata": {},
   "outputs": [
    {
     "name": "stdout",
     "output_type": "stream",
     "text": [
      "Help on method_descriptor:\n",
      "\n",
      "sort(self, /, *, key=None, reverse=False)\n",
      "    Sort the list in ascending order and return None.\n",
      "    \n",
      "    The sort is in-place (i.e. the list itself is modified) and stable (i.e. the\n",
      "    order of two equal elements is maintained).\n",
      "    \n",
      "    If a key function is given, apply it once to each list item and sort them,\n",
      "    ascending or descending, according to their function values.\n",
      "    \n",
      "    The reverse flag can be set to sort in descending order.\n",
      "\n"
     ]
    }
   ],
   "source": [
    "#사용법 확인하기\n",
    "help(list.sort)"
   ]
  },
  {
   "cell_type": "code",
   "execution_count": null,
   "id": "f9381e2c",
   "metadata": {},
   "outputs": [],
   "source": []
  },
  {
   "cell_type": "markdown",
   "id": "e532d6fe",
   "metadata": {},
   "source": [
    "---"
   ]
  },
  {
   "cell_type": "markdown",
   "id": "9ae739d8",
   "metadata": {},
   "source": [
    "## 리스트 요소 순서 나열"
   ]
  },
  {
   "cell_type": "code",
   "execution_count": 69,
   "id": "404069e1",
   "metadata": {},
   "outputs": [
    {
     "name": "stdout",
     "output_type": "stream",
     "text": [
      "['bus', 'sedan', 'taxi', 'truck']\n",
      "['truck', 'taxi', 'sedan', 'bus']\n",
      "Here is the original list:\n",
      "['truck', 'taxi', 'sedan', 'bus']\n",
      "\n",
      "Here is the sorted list:\n",
      "['bus', 'sedan', 'taxi', 'truck']\n",
      "\n",
      "Here is the original list again:\n",
      "['truck', 'taxi', 'sedan', 'bus']\n"
     ]
    }
   ],
   "source": [
    "cars = ['taxi', 'sedan', 'bus', 'truck']\n",
    "cars.sort()  #오름차순으로 배열\n",
    "print(cars)\n",
    "\n",
    "cars.sort(reverse=True)  #역순 배열\n",
    "print(cars)\n",
    "\n",
    "print(\"Here is the original list:\")\n",
    "print(cars)\n",
    "print(\"\\nHere is the sorted list:\")\n",
    "print(sorted(cars))  #오름차순으로 배열한 리스트를 따로 생성\n",
    "print(\"\\nHere is the original list again:\")\n",
    "print(cars)"
   ]
  },
  {
   "cell_type": "markdown",
   "id": "4786b7e5",
   "metadata": {},
   "source": [
    "---"
   ]
  },
  {
   "cell_type": "markdown",
   "id": "edc664db",
   "metadata": {},
   "source": [
    "## 리스트 역순으로 출력하기"
   ]
  },
  {
   "cell_type": "code",
   "execution_count": 70,
   "id": "c295f00c",
   "metadata": {},
   "outputs": [
    {
     "name": "stdout",
     "output_type": "stream",
     "text": [
      "['taxi', 'sedan', 'bus', 'truck']\n",
      "\n",
      "['truck', 'bus', 'sedan', 'taxi']\n"
     ]
    }
   ],
   "source": [
    "cars = ['taxi', 'sedan', 'bus', 'truck']\n",
    "print(cars)\n",
    "print()  #줄바꿈\n",
    "cars.reverse()  #원래 리스트의 요소 순서를 거꾸로 배열\n",
    "print(cars)"
   ]
  },
  {
   "cell_type": "markdown",
   "id": "37b0f4f6",
   "metadata": {},
   "source": [
    "---"
   ]
  },
  {
   "cell_type": "markdown",
   "id": "d53e6b31",
   "metadata": {},
   "source": [
    "## 리스트 관련 에러"
   ]
  },
  {
   "cell_type": "code",
   "execution_count": 74,
   "id": "fcf56508",
   "metadata": {},
   "outputs": [
    {
     "ename": "SyntaxError",
     "evalue": "invalid syntax. Perhaps you forgot a comma? (3650628853.py, line 4)",
     "output_type": "error",
     "traceback": [
      "\u001b[1;36m  Cell \u001b[1;32mIn[74], line 4\u001b[1;36m\u001b[0m\n\u001b[1;33m    Traceback (most recent call last):\u001b[0m\n\u001b[1;37m               ^\u001b[0m\n\u001b[1;31mSyntaxError\u001b[0m\u001b[1;31m:\u001b[0m invalid syntax. Perhaps you forgot a comma?\n"
     ]
    }
   ],
   "source": [
    "motorcycles = ['honda', 'yamaha', 'suzuki']\n",
    "print(motorcycles[3])\n",
    "\n",
    "Traceback (most recent call last):\n"
   ]
  },
  {
   "cell_type": "markdown",
   "id": "cc6afc92",
   "metadata": {},
   "source": [
    "---"
   ]
  },
  {
   "cell_type": "markdown",
   "id": "128f9c77",
   "metadata": {},
   "source": [
    "## 리스트 내포(list comprehension)   \n",
    " - 리스트 안에 for문을 포함하여 한 줄로 리스트를 만드는 방법\n",
    " - [표현식 for 항목 in 반복객체]\n",
    " - [표현식 for 항목 in 반복객체 if 조건문]\n",
    " - [표현식 if 조건문 else 문장 for 항목 in 반복객체]"
   ]
  },
  {
   "cell_type": "code",
   "execution_count": 78,
   "id": "fdac249c",
   "metadata": {},
   "outputs": [
    {
     "name": "stdout",
     "output_type": "stream",
     "text": [
      "result1: [3, 6, 9, 12]\n",
      "result2: [6, 12]\n",
      "result3: [0, 1, 4, 9, 8, 25, 12, 49, 16, 81]\n"
     ]
    }
   ],
   "source": [
    "# a 원소의 3배수로 구성되는 리스트 생성\n",
    "a = [1, 2, 3, 4]\n",
    "result1 = [num * 3 for num in a]\n",
    "print(\"result1:\", result1)\n",
    "\n",
    "# a의 원소 중 짝수인 원소의 3배수로 구성되는 리스트 생성\n",
    "result2 = [num * 3 for num in a if num % 2 == 0]\n",
    "print(\"result2:\", result2)\n",
    "\n",
    "# 짝수의 2배수나 홀수의 제곱을 원소로 갖는 리스트 생성\n",
    "result3 = [i * 2 if i % 2 == 0 else i ** 2 for i in range(10)]\n",
    "print(\"result3:\", result3)"
   ]
  },
  {
   "cell_type": "markdown",
   "id": "def0d588",
   "metadata": {},
   "source": [
    "---"
   ]
  },
  {
   "cell_type": "markdown",
   "id": "d39960d5",
   "metadata": {},
   "source": [
    "# __튜플(tuple)__"
   ]
  },
  {
   "cell_type": "markdown",
   "id": "ef79ce4e",
   "metadata": {},
   "source": [
    "튜플은 리스트와 비슷한 자료구조이나 요소 값을 변경할 수 없다(immutable)\n",
    "\n",
    "   튜플 만들기\n"
   ]
  },
  {
   "cell_type": "code",
   "execution_count": 82,
   "id": "50c270ac",
   "metadata": {},
   "outputs": [
    {
     "name": "stdout",
     "output_type": "stream",
     "text": [
      "(1, 2, 3)\n",
      "(1, 2, 3)\n",
      "(1,)\n",
      "()\n"
     ]
    }
   ],
   "source": [
    "t1 = (1,2,3)  #()속에 요소를 나열하여 만든다\n",
    "print(t1)\n",
    "\n",
    "t2 = 1,2,3  #()없이 요소를 나열해서 만들 수도 있다. 패킹\n",
    "print(t2)\n",
    "\n",
    "t3 = 1,  #요소가 한 개인 경우 ,를 붙인다\n",
    "print(t3)\n",
    "\n",
    "t4 = tuple()  #빈 튜플 생성\n",
    "print(t4)"
   ]
  },
  {
   "cell_type": "markdown",
   "id": "bbf38511",
   "metadata": {},
   "source": [
    "---"
   ]
  },
  {
   "cell_type": "markdown",
   "id": "25dbed80",
   "metadata": {},
   "source": [
    "## 튜플 요소 접근하기(인덱싱과 슬라이싱)"
   ]
  },
  {
   "cell_type": "code",
   "execution_count": 84,
   "id": "35744b1a",
   "metadata": {},
   "outputs": [
    {
     "name": "stdout",
     "output_type": "stream",
     "text": [
      "2\n",
      "\n",
      "(2, 3)\n"
     ]
    }
   ],
   "source": [
    "t1 = (1,2,3)\n",
    "print(t1[1])\n",
    "print()  #줄바꿈\n",
    "print(t1[1:3])"
   ]
  },
  {
   "cell_type": "markdown",
   "id": "040e4f88",
   "metadata": {},
   "source": [
    "---"
   ]
  },
  {
   "cell_type": "markdown",
   "id": "d4486718",
   "metadata": {},
   "source": [
    "## 튜플 연산"
   ]
  },
  {
   "cell_type": "code",
   "execution_count": 86,
   "id": "22ac9dd3",
   "metadata": {},
   "outputs": [
    {
     "name": "stdout",
     "output_type": "stream",
     "text": [
      "(1, 2, 3, 'a', 'b')\n",
      "\n",
      "(1, 2, 3, 1, 2, 3)\n"
     ]
    }
   ],
   "source": [
    "t1 = (1,2,3)\n",
    "t2 = ('a', 'b')\n",
    "print(t1 + t2)  #두 개의 튜플을 하나로 합치기\n",
    "print()  #줄바꿈\n",
    "print(t1 * 2)  #동일한 튜플을 하나 더 생성하여 합치기"
   ]
  },
  {
   "cell_type": "markdown",
   "id": "cfcc2b66",
   "metadata": {},
   "source": [
    "---"
   ]
  },
  {
   "cell_type": "markdown",
   "id": "976ffe05",
   "metadata": {},
   "source": [
    "## 튜플과 리스트 상호 변환"
   ]
  },
  {
   "cell_type": "code",
   "execution_count": 87,
   "id": "94cd90ae",
   "metadata": {},
   "outputs": [
    {
     "name": "stdout",
     "output_type": "stream",
     "text": [
      "(1, 2, 3, 4)\n"
     ]
    }
   ],
   "source": [
    "T1 = (1,2,3)\n",
    "L1=list(T1)\n",
    "L1.append(4)\n",
    "T1=tuple(L1)\n",
    "print(T1)"
   ]
  },
  {
   "cell_type": "markdown",
   "id": "9e49f25b",
   "metadata": {},
   "source": [
    "---"
   ]
  },
  {
   "cell_type": "markdown",
   "id": "98402a6e",
   "metadata": {},
   "source": [
    "## 튜플 언패킹"
   ]
  },
  {
   "cell_type": "code",
   "execution_count": 89,
   "id": "2071ebff",
   "metadata": {},
   "outputs": [
    {
     "name": "stdout",
     "output_type": "stream",
     "text": [
      "1\n",
      "\n",
      "2\n",
      "\n",
      "3\n"
     ]
    }
   ],
   "source": [
    "a,b,c = (1,2,3)  #튜플의 요소를 하나씩 변수에 할당. 언패킹\n",
    "print(a)\n",
    "print()  #줄바꿈\n",
    "print(b)\n",
    "print()  #줄바꿈\n",
    "print(c)"
   ]
  },
  {
   "cell_type": "markdown",
   "id": "5745b107",
   "metadata": {},
   "source": [
    "---"
   ]
  },
  {
   "cell_type": "markdown",
   "id": "e45a4242",
   "metadata": {},
   "source": [
    "# __딕셔너리(dictionary)__"
   ]
  },
  {
   "cell_type": "markdown",
   "id": "78b5a75a",
   "metadata": {},
   "source": [
    "키(key):값(value)로 구성되는 자료 구조\n",
    " - {key1: value1, key2: value2}   \n",
    "    \n",
    "키는 정수, 실수, 문자열, 튜플   \n",
    "값은 임의의 데이터형\n",
    "   \n",
    "\n",
    "   딕셔너리 생성"
   ]
  },
  {
   "cell_type": "code",
   "execution_count": 92,
   "id": "d93884af",
   "metadata": {},
   "outputs": [
    {
     "name": "stdout",
     "output_type": "stream",
     "text": [
      "{'Jun': 174, 'Kim': 170, 'Lee': 165}\n",
      "\n",
      "{}\n"
     ]
    }
   ],
   "source": [
    "height = {'Jun':174, 'Kim': 170, 'Lee': 165 }  #{key:value}\n",
    "print(height)\n",
    "print()  #줄바꿈\n",
    "test = dict()  #빈 딕셔너리 생성, a = {}\n",
    "print(test)"
   ]
  },
  {
   "cell_type": "markdown",
   "id": "27de79f6",
   "metadata": {},
   "source": [
    "---"
   ]
  },
  {
   "cell_type": "markdown",
   "id": "dc916d47",
   "metadata": {},
   "source": [
    "## 딕셔너리 key 값 조사하기"
   ]
  },
  {
   "cell_type": "code",
   "execution_count": 94,
   "id": "946055e8",
   "metadata": {},
   "outputs": [
    {
     "data": {
      "text/plain": [
       "170"
      ]
     },
     "execution_count": 94,
     "metadata": {},
     "output_type": "execute_result"
    }
   ],
   "source": [
    "height['Kim']  #Dict[key]로 값 조사하기"
   ]
  },
  {
   "cell_type": "markdown",
   "id": "dd30f895",
   "metadata": {},
   "source": [
    "---"
   ]
  },
  {
   "cell_type": "markdown",
   "id": "2ce56c5e",
   "metadata": {},
   "source": [
    "## 딕셔너리 키 조사"
   ]
  },
  {
   "cell_type": "code",
   "execution_count": 95,
   "id": "77689002",
   "metadata": {},
   "outputs": [
    {
     "data": {
      "text/plain": [
       "True"
      ]
     },
     "execution_count": 95,
     "metadata": {},
     "output_type": "execute_result"
    }
   ],
   "source": [
    "height = {'Jun':174, 'Kim': 170, 'Lee': 165 }\n",
    "'Kim' in height  #in 연산자로 key가 있는지 조사"
   ]
  },
  {
   "cell_type": "markdown",
   "id": "564eeefe",
   "metadata": {},
   "source": [
    "---"
   ]
  },
  {
   "cell_type": "markdown",
   "id": "e722225a",
   "metadata": {},
   "source": [
    "## 딕셔너리 요소 수정, 추가하기"
   ]
  },
  {
   "cell_type": "code",
   "execution_count": 97,
   "id": "801f2b8c",
   "metadata": {},
   "outputs": [
    {
     "name": "stdout",
     "output_type": "stream",
     "text": [
      "{'Jun': 174, 'Kim': 170, 'Lee': 180}\n",
      "\n",
      "{'Jun': 174, 'Kim': 170, 'Lee': 180, 'Ihm': 168}\n"
     ]
    }
   ],
   "source": [
    "height['Lee'] = 180  #요소 수정하기\n",
    "print(height)\n",
    "print()  #줄바꿈\n",
    "height['Ihm'] = 168  #요소 추가하기\n",
    "print(height)"
   ]
  },
  {
   "cell_type": "markdown",
   "id": "9bf3a5f0",
   "metadata": {},
   "source": [
    "---"
   ]
  },
  {
   "cell_type": "markdown",
   "id": "bf0ecd74",
   "metadata": {},
   "source": [
    "## 딕셔너리의 키, 값, 요소를 뽑아내기"
   ]
  },
  {
   "cell_type": "code",
   "execution_count": 102,
   "id": "b3cf53d6",
   "metadata": {},
   "outputs": [
    {
     "name": "stdout",
     "output_type": "stream",
     "text": [
      "dict_keys(['Jun', 'Kim', 'Lee', 'Ihm'])\n",
      "\n",
      "dict_values([174, 170, 180, 168])\n",
      "\n",
      "dict_items([('Jun', 174), ('Kim', 170), ('Lee', 180), ('Ihm', 168)])\n",
      "\n",
      "['Jun', 'Kim', 'Lee', 'Ihm']\n"
     ]
    }
   ],
   "source": [
    "print(height.keys())  #키 뽑아내기  #iterable(반복객체)이 반환됨\n",
    "print()  #줄바꿈\n",
    "print(height.values())  #값 뽑아내기\n",
    "print()  #줄바꿈\n",
    "print(height.items())  #요소를 튜플로 분리하기\n",
    "print()  #줄바꿈\n",
    "\n",
    "# 뽑아낸 키를 리스트로 변환하기\n",
    "dict_keys = height.keys()\n",
    "keys_list = list(dict_keys)\n",
    "print(keys_list)\n"
   ]
  },
  {
   "cell_type": "markdown",
   "id": "70f6c054",
   "metadata": {},
   "source": [
    "---"
   ]
  },
  {
   "cell_type": "markdown",
   "id": "6ab4f0ec",
   "metadata": {},
   "source": [
    "## 딕셔너리 요소 제거하기"
   ]
  },
  {
   "cell_type": "code",
   "execution_count": 108,
   "id": "dea9914e",
   "metadata": {},
   "outputs": [
    {
     "name": "stdout",
     "output_type": "stream",
     "text": [
      "168\n",
      "\n",
      "{'Jun': 174, 'Kim': 170, 'Lee': 165}\n"
     ]
    }
   ],
   "source": [
    "height = {'Jun':174, 'Kim': 170, 'Lee': 165 }  #{key:value}\n",
    "height['Ihm'] = 168  #요소 추가하기\n",
    "print(height.pop('Ihm'))  #'Ihm' 요소 제거`\n",
    "print()  #줄바꿈\n",
    "print(height)"
   ]
  },
  {
   "cell_type": "markdown",
   "id": "25c1ac99",
   "metadata": {},
   "source": [
    "---"
   ]
  },
  {
   "cell_type": "markdown",
   "id": "51a3ab13",
   "metadata": {},
   "source": [
    "## 딕셔너리 지우기"
   ]
  },
  {
   "cell_type": "code",
   "execution_count": 110,
   "id": "79a6b605",
   "metadata": {},
   "outputs": [
    {
     "data": {
      "text/plain": [
       "{}"
      ]
     },
     "execution_count": 110,
     "metadata": {},
     "output_type": "execute_result"
    }
   ],
   "source": [
    "height.clear()  #요소를 지우기. 빈 딕셔너리로 만든다\n",
    "height"
   ]
  },
  {
   "cell_type": "markdown",
   "id": "b5512e7d",
   "metadata": {},
   "source": [
    "---"
   ]
  },
  {
   "cell_type": "markdown",
   "id": "981ffa6d",
   "metadata": {},
   "source": [
    "# __집합(set)__"
   ]
  },
  {
   "cell_type": "markdown",
   "id": "fa42fe87",
   "metadata": {},
   "source": [
    " - {} 속에 요소들을 중복되지 않고 순서없이 모아놓은 자료 구조"
   ]
  },
  {
   "cell_type": "markdown",
   "id": "0f89608b",
   "metadata": {},
   "source": [
    "## 집합의 생성"
   ]
  },
  {
   "cell_type": "code",
   "execution_count": 112,
   "id": "6605493c",
   "metadata": {},
   "outputs": [],
   "source": [
    "numbers = {1, 2, 3}\n",
    "name = set(['Kim', 'Lee', 'Park']) "
   ]
  },
  {
   "cell_type": "markdown",
   "id": "45f59f24",
   "metadata": {},
   "source": [
    "---"
   ]
  },
  {
   "cell_type": "markdown",
   "id": "5fc6248f",
   "metadata": {},
   "source": [
    "## 빈 집합 생성, 개수 확인, 요소 추가, 요소 제거하기"
   ]
  },
  {
   "cell_type": "code",
   "execution_count": 113,
   "id": "561b798d",
   "metadata": {},
   "outputs": [
    {
     "name": "stdout",
     "output_type": "stream",
     "text": [
      "3\n",
      "\n",
      "{1, 2, 3, 4}\n",
      "\n",
      "{1, 2, 3}\n"
     ]
    }
   ],
   "source": [
    "empty = set()  #빈 집합 생성\n",
    "numbers = {1, 2, 3}\n",
    "print(len(numbers))\n",
    "print()  #줄바꿈\n",
    "\n",
    "numbers.add(4)  #요소 추가\n",
    "print(numbers)\n",
    "print()  #줄바꿈\n",
    "\n",
    "numbers.remove(4)  #요소 제거\n",
    "print(numbers)"
   ]
  },
  {
   "cell_type": "markdown",
   "id": "0315a355",
   "metadata": {},
   "source": [
    "---"
   ]
  },
  {
   "cell_type": "markdown",
   "id": "04e4bb3d",
   "metadata": {},
   "source": [
    "## 집합의 연산"
   ]
  },
  {
   "cell_type": "code",
   "execution_count": 116,
   "id": "63d49b2c",
   "metadata": {},
   "outputs": [
    {
     "name": "stdout",
     "output_type": "stream",
     "text": [
      "{2, 3}\n",
      "\n",
      "{1, 2, 3, 4}\n",
      "\n",
      "{1}\n"
     ]
    }
   ],
   "source": [
    "setA={1,2,3}\n",
    "setB={2,3,4}\n",
    "print(setA & setB)  #교집합. setA.intersection(setB)\n",
    "print()  #줄바꿈\n",
    "print(setA | setB)  #합집합. setA.union(setB)\n",
    "print()  #줄바꿈\n",
    "print(setA - setB)  #차집합. setA에서 setB 요소를 뺀 나머지. setA.difference(setB)"
   ]
  },
  {
   "cell_type": "markdown",
   "id": "6e5fe27d",
   "metadata": {},
   "source": [
    "---"
   ]
  },
  {
   "cell_type": "markdown",
   "id": "ac2e98e3",
   "metadata": {},
   "source": [
    "## 부분 집합 연산"
   ]
  },
  {
   "cell_type": "code",
   "execution_count": 119,
   "id": "e8be7803",
   "metadata": {},
   "outputs": [
    {
     "name": "stdout",
     "output_type": "stream",
     "text": [
      "True\n",
      "\n",
      "True\n",
      "\n",
      "True\n"
     ]
    }
   ],
   "source": [
    "setA = {1,2,3}\n",
    "setB = {1,2,3}\n",
    "print(setA == setB)  #두 개의 집합이 같은가?\n",
    "print()  #줄바꿈\n",
    "setA = {1,2,3,4,5,6}\n",
    "setB = {1,2,3}\n",
    "print(setB < setA)  #집합 B가 집합 A의 부분집합인가?\n",
    "print()  #줄바꿈\n",
    "print(setB.issubset(setA))  #집합 B가 집합 A의 부분집합인가?"
   ]
  },
  {
   "cell_type": "markdown",
   "id": "2de7a098",
   "metadata": {},
   "source": [
    "---"
   ]
  }
 ],
 "metadata": {
  "kernelspec": {
   "display_name": "base",
   "language": "python",
   "name": "python3"
  },
  "language_info": {
   "codemirror_mode": {
    "name": "ipython",
    "version": 3
   },
   "file_extension": ".py",
   "mimetype": "text/x-python",
   "name": "python",
   "nbconvert_exporter": "python",
   "pygments_lexer": "ipython3",
   "version": "3.11.7"
  }
 },
 "nbformat": 4,
 "nbformat_minor": 5
}
