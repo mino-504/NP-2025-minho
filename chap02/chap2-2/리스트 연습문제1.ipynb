{
 "cells": [
  {
   "cell_type": "markdown",
   "id": "4b6f6387",
   "metadata": {},
   "source": [
    "# 연습문제 1"
   ]
  },
  {
   "cell_type": "markdown",
   "id": "1128e325",
   "metadata": {},
   "source": [
    "3명 이상 친구 이름 리스트를 작성하고 다음 내용을 프로그램하시오"
   ]
  },
  {
   "cell_type": "markdown",
   "id": "a09d8312",
   "metadata": {},
   "source": [
    " - insert()로 맨 앞에 새로운 친구 추가\n"
   ]
  },
  {
   "cell_type": "code",
   "execution_count": 9,
   "id": "56fe7a7a",
   "metadata": {},
   "outputs": [
    {
     "data": {
      "text/plain": [
       "['강찬희', '안치성', '신연준', '김민상']"
      ]
     },
     "execution_count": 9,
     "metadata": {},
     "output_type": "execute_result"
    }
   ],
   "source": [
    "a = ['안치성', '신연준', '김민상']\n",
    "a.insert(0, '강찬희')\n",
    "\n",
    "a"
   ]
  },
  {
   "cell_type": "markdown",
   "id": "ef847370",
   "metadata": {},
   "source": [
    "리스트[1, 2, 3]에 대해 다음과 같은 처리를 하라."
   ]
  }
 ],
 "metadata": {
  "kernelspec": {
   "display_name": "base",
   "language": "python",
   "name": "python3"
  },
  "language_info": {
   "codemirror_mode": {
    "name": "ipython",
    "version": 3
   },
   "file_extension": ".py",
   "mimetype": "text/x-python",
   "name": "python",
   "nbconvert_exporter": "python",
   "pygments_lexer": "ipython3",
   "version": "3.11.7"
  }
 },
 "nbformat": 4,
 "nbformat_minor": 5
}
