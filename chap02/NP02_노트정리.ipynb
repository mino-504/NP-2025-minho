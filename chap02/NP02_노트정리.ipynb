{
 "cells": [
  {
   "cell_type": "markdown",
   "id": "3334f2ef",
   "metadata": {},
   "source": [
    "## 2장 코드정리\n",
    "\n",
    "이 파일은 2장 학습하면서 실행한 내용을 정리한 것이다.\n",
    "\n",
    "날짜 : 2025.9.9\n",
    "\n",
    "학번 : 202011578\n",
    "\n",
    "저자 : 최민호    \n",
    "\n",
    "----------"
   ]
  },
  {
   "cell_type": "markdown",
   "id": "952e211a",
   "metadata": {},
   "source": [
    "# __기본 입출력 함수__\n",
    "\n",
    "## print() 함수\n",
    "숫자나 문자열 등의 데어터나 수식을 화면에 출력할때 사용"
   ]
  },
  {
   "cell_type": "code",
   "execution_count": 1,
   "id": "c7a43bb7",
   "metadata": {},
   "outputs": [
    {
     "name": "stdout",
     "output_type": "stream",
     "text": [
      "30\n"
     ]
    }
   ],
   "source": [
    "print(10+20) #( ) 속의 연산 결과 출력"
   ]
  },
  {
   "cell_type": "code",
   "execution_count": 2,
   "id": "b324bff8",
   "metadata": {},
   "outputs": [
    {
     "name": "stdout",
     "output_type": "stream",
     "text": [
      "동양미래대학교\n"
     ]
    }
   ],
   "source": [
    "print(\"동양미래대학교\") # 문자열 출력"
   ]
  },
  {
   "cell_type": "code",
   "execution_count": 5,
   "id": "7bd1a01b",
   "metadata": {},
   "outputs": [
    {
     "name": "stdout",
     "output_type": "stream",
     "text": [
      "abc abc abc \n"
     ]
    }
   ],
   "source": [
    "print(\"abc \"*3) # 문자열 3번 출력"
   ]
  },
  {
   "cell_type": "code",
   "execution_count": 6,
   "id": "4b93d542",
   "metadata": {},
   "outputs": [
    {
     "name": "stdout",
     "output_type": "stream",
     "text": [
      "25 32\n"
     ]
    }
   ],
   "source": [
    "x = 25\n",
    "y = 32\n",
    "z = x+y\n",
    "print(x,y) #변수 x, y의 값 출력"
   ]
  },
  {
   "cell_type": "code",
   "execution_count": 7,
   "id": "955b53f3",
   "metadata": {},
   "outputs": [
    {
     "name": "stdout",
     "output_type": "stream",
     "text": [
      "25 + 32 = 57\n"
     ]
    }
   ],
   "source": [
    "print(x, '+', y, '=', z) # 변수 x, y, z의 값 출력"
   ]
  },
  {
   "cell_type": "markdown",
   "id": "7c31df7d",
   "metadata": {},
   "source": [
    "-------------"
   ]
  },
  {
   "cell_type": "markdown",
   "id": "d48a7f9d",
   "metadata": {},
   "source": [
    "## print() 함수-서식 지정\n",
    "|서식|설명|사용 예|\n",
    "|---|---|---|\n",
    "|%d|10진수 정수로 출력|print(\"%d\" %10)|\n",
    "|%f|실수로 출력|print(\"%f\" %1.2)|\n",
    "|%s|문자열 출력|print(\"%s\" %\"cat\")|\n",
    "|%e|한 글자 출력|print(\"%c\" %\"p\")|\n",
    "|%x|16진수 정수로 출력|print(\"%x\" %10)|\n",
    "|%o|8진수 정수로 출력|print(\"%o\" %8)|\n"
   ]
  },
  {
   "cell_type": "code",
   "execution_count": 10,
   "id": "06126691",
   "metadata": {},
   "outputs": [
    {
     "name": "stdout",
     "output_type": "stream",
     "text": [
      "30\n"
     ]
    }
   ],
   "source": [
    "print(10+20)"
   ]
  },
  {
   "cell_type": "code",
   "execution_count": 11,
   "id": "95944396",
   "metadata": {},
   "outputs": [
    {
     "name": "stdout",
     "output_type": "stream",
     "text": [
      "1020\n"
     ]
    }
   ],
   "source": [
    "print(\"10\"+\"20\") #문자열 연결"
   ]
  },
  {
   "cell_type": "code",
   "execution_count": 13,
   "id": "11e0395a",
   "metadata": {},
   "outputs": [
    {
     "name": "stdout",
     "output_type": "stream",
     "text": [
      "abc abc abc \n"
     ]
    }
   ],
   "source": [
    "print(\"abc \" * 3) #문자열 3번 반복"
   ]
  },
  {
   "cell_type": "code",
   "execution_count": 14,
   "id": "c3388e88",
   "metadata": {},
   "outputs": [
    {
     "name": "stdout",
     "output_type": "stream",
     "text": [
      "n = 10\n"
     ]
    }
   ],
   "source": [
    "n=10\n",
    "print(\"n = %d\" %n) #서식 지정 출력"
   ]
  },
  {
   "cell_type": "code",
   "execution_count": 15,
   "id": "467bb004",
   "metadata": {},
   "outputs": [
    {
     "name": "stdout",
     "output_type": "stream",
     "text": [
      "m=5.2, n=10\n"
     ]
    }
   ],
   "source": [
    "m = 5.2\n",
    "print(\"m=%.1f, n=%d\" %(m,n)) #%.1f = 소수점 첫째자리까지 출력"
   ]
  },
  {
   "cell_type": "markdown",
   "id": "27f77ef6",
   "metadata": {},
   "source": [
    "---"
   ]
  },
  {
   "cell_type": "markdown",
   "id": "6c4ec92a",
   "metadata": {},
   "source": [
    "## input() 함수\n",
    "키보드를 이용하여 숫자나 문자열 등의 데이터를 입력 받을 때 사용   \n",
    "입력된 정보는 문자열이다."
   ]
  },
  {
   "cell_type": "code",
   "execution_count": 16,
   "id": "d1b4f7d4",
   "metadata": {},
   "outputs": [],
   "source": [
    "n = input('type a number: ')"
   ]
  },
  {
   "cell_type": "code",
   "execution_count": null,
   "id": "3aee7261",
   "metadata": {},
   "outputs": [
    {
     "data": {
      "text/plain": [
       "'3'"
      ]
     },
     "execution_count": 17,
     "metadata": {},
     "output_type": "execute_result"
    }
   ],
   "source": [
    "n #문자열로 입력된다"
   ]
  },
  {
   "cell_type": "code",
   "execution_count": 18,
   "id": "3ddb2d47",
   "metadata": {},
   "outputs": [
    {
     "data": {
      "text/plain": [
       "3"
      ]
     },
     "execution_count": 18,
     "metadata": {},
     "output_type": "execute_result"
    }
   ],
   "source": [
    "int(n) #문자열을 정수로 변환"
   ]
  },
  {
   "cell_type": "code",
   "execution_count": 20,
   "id": "35b7759d",
   "metadata": {},
   "outputs": [
    {
     "data": {
      "text/plain": [
       "3.0"
      ]
     },
     "execution_count": 20,
     "metadata": {},
     "output_type": "execute_result"
    }
   ],
   "source": [
    "float(n) #문자열을 실수형으로 변환"
   ]
  },
  {
   "cell_type": "code",
   "execution_count": 23,
   "id": "596fc163",
   "metadata": {},
   "outputs": [
    {
     "data": {
      "text/plain": [
       "'3'"
      ]
     },
     "execution_count": 23,
     "metadata": {},
     "output_type": "execute_result"
    }
   ],
   "source": [
    "n = str(3) #정수를 문자열로 변환\n",
    "n"
   ]
  },
  {
   "cell_type": "markdown",
   "id": "54b2d49f",
   "metadata": {},
   "source": [
    "---"
   ]
  },
  {
   "cell_type": "markdown",
   "id": "8ee1e94d",
   "metadata": {},
   "source": [
    "## 입출력 함수의 사용 예"
   ]
  },
  {
   "cell_type": "code",
   "execution_count": 6,
   "id": "75820923",
   "metadata": {},
   "outputs": [
    {
     "name": "stdout",
     "output_type": "stream",
     "text": [
      "Hello, MINO\n"
     ]
    }
   ],
   "source": [
    "#문자열 결합 후 출력\n",
    "name = input('Name: ') #문자열 입력\n",
    "print(\"Hello, \" + name)"
   ]
  },
  {
   "cell_type": "code",
   "execution_count": 4,
   "id": "75c5931b",
   "metadata": {},
   "outputs": [
    {
     "name": "stdout",
     "output_type": "stream",
     "text": [
      "6\n"
     ]
    }
   ],
   "source": [
    "#두 정수를 입력 받아 곱셈 결과 출력\n",
    "a = int(input('Number 1: '))\n",
    "b = int(input('Number 2: '))\n",
    "print(a * b)"
   ]
  },
  {
   "cell_type": "code",
   "execution_count": 5,
   "id": "9f02db64",
   "metadata": {},
   "outputs": [
    {
     "name": "stdout",
     "output_type": "stream",
     "text": [
      "화씨온도는 95.0\n"
     ]
    }
   ],
   "source": [
    "# 섭씨온도(C)를 입력 받아 화씨온도(F)로 바꾸어 출력\n",
    "C = float(input(\"Type 섭씨온도 : \")) #입력 문자열을 실수로 변환\n",
    "F = C*9/5+32 #온도 변환\n",
    "print(\"화씨온도는\", F)"
   ]
  },
  {
   "cell_type": "markdown",
   "id": "a71b7a5b",
   "metadata": {},
   "source": [
    "---"
   ]
  },
  {
   "cell_type": "markdown",
   "id": "414f1d00",
   "metadata": {},
   "source": [
    "# __기본 자료형__\n",
    "\n",
    "## 부울형(Boolean)"
   ]
  },
  {
   "cell_type": "markdown",
   "id": "972fbb11",
   "metadata": {},
   "source": [
    "참(True) 또는 거짓(False) 중 하나의 값을 갖는 자료형(True, False)    \n",
    "비교 결과를 저장할 때 사용"
   ]
  },
  {
   "cell_type": "code",
   "execution_count": 11,
   "id": "acc99d29",
   "metadata": {},
   "outputs": [
    {
     "name": "stdout",
     "output_type": "stream",
     "text": [
      "<class 'bool'>\n"
     ]
    }
   ],
   "source": [
    "aVar = True\n",
    "bVar = False\n",
    "print(type(aVar))"
   ]
  },
  {
   "cell_type": "code",
   "execution_count": 12,
   "id": "da144328",
   "metadata": {},
   "outputs": [
    {
     "data": {
      "text/plain": [
       "False"
      ]
     },
     "execution_count": 12,
     "metadata": {},
     "output_type": "execute_result"
    }
   ],
   "source": [
    "a=1\n",
    "b=2\n",
    "c=a>b\n",
    "c"
   ]
  },
  {
   "cell_type": "code",
   "execution_count": 13,
   "id": "9e409887",
   "metadata": {},
   "outputs": [
    {
     "data": {
      "text/plain": [
       "True"
      ]
     },
     "execution_count": 13,
     "metadata": {},
     "output_type": "execute_result"
    }
   ],
   "source": [
    "d=a<b\n",
    "d"
   ]
  },
  {
   "cell_type": "markdown",
   "id": "a83c0319",
   "metadata": {},
   "source": [
    "---"
   ]
  },
  {
   "cell_type": "markdown",
   "id": "d1556af3",
   "metadata": {},
   "source": [
    "## 정수(integer)형"
   ]
  },
  {
   "cell_type": "code",
   "execution_count": 14,
   "id": "fd7b4020",
   "metadata": {},
   "outputs": [
    {
     "name": "stdout",
     "output_type": "stream",
     "text": [
      "<class 'int'>\n"
     ]
    }
   ],
   "source": [
    "#소수점 없는 숫자 표현\n",
    "intVar = 5\n",
    "print(type(intVar))"
   ]
  },
  {
   "cell_type": "code",
   "execution_count": 19,
   "id": "29cc689d",
   "metadata": {},
   "outputs": [
    {
     "name": "stdout",
     "output_type": "stream",
     "text": [
      "1 23 3493\n",
      "53 50\n",
      "1 23 3493\n",
      "1 23 3493\n"
     ]
    }
   ],
   "source": [
    "#여러 지 정수 표현\n",
    "print(1, 23, 3493)          # 10진수\n",
    "print(0b0110101, 0b110010)  # 2진수\n",
    "print(0o1, 0o27, 0o6645)    # 8진수\n",
    "print(0x1, 0x17, 0xDA5)     # 16진수"
   ]
  },
  {
   "cell_type": "markdown",
   "id": "e2b746e3",
   "metadata": {},
   "source": [
    "---"
   ]
  },
  {
   "cell_type": "markdown",
   "id": "f4779ea8",
   "metadata": {},
   "source": [
    "## 실수(float)형"
   ]
  },
  {
   "cell_type": "code",
   "execution_count": 22,
   "id": "7776133c",
   "metadata": {},
   "outputs": [
    {
     "name": "stdout",
     "output_type": "stream",
     "text": [
      "<class 'float'>\n"
     ]
    }
   ],
   "source": [
    "fVar = 1.0\n",
    "print(type(fVar))"
   ]
  },
  {
   "cell_type": "code",
   "execution_count": 23,
   "id": "435c6e01",
   "metadata": {},
   "outputs": [
    {
     "data": {
      "text/plain": [
       "(0.0, 0.0, 0.0, 1.0, 1.0, 1.0, 1.0, 100.0)"
      ]
     },
     "execution_count": 23,
     "metadata": {},
     "output_type": "execute_result"
    }
   ],
   "source": [
    "# 여러 가지 실수 표현\n",
    "0., 0.0, .0, 1., 1.0, 1e0, 1.e0, 1.0e2"
   ]
  },
  {
   "cell_type": "markdown",
   "id": "76b61d7f",
   "metadata": {},
   "source": [
    "---"
   ]
  },
  {
   "cell_type": "markdown",
   "id": "ad1244e5",
   "metadata": {},
   "source": [
    "## 쉽게 식별할 수 있도록 _를 사용한 숫자의 표현(파이썬 3.6 부터 적용)"
   ]
  },
  {
   "cell_type": "code",
   "execution_count": 24,
   "id": "9853d868",
   "metadata": {},
   "outputs": [
    {
     "data": {
      "text/plain": [
       "(100000.0000001, 65535, 4095, 170)"
      ]
     },
     "execution_count": 24,
     "metadata": {},
     "output_type": "execute_result"
    }
   ],
   "source": [
    "100_000.000_0001, 0x_FF_FF, 0o7_777, 0b_1010_1010"
   ]
  },
  {
   "cell_type": "code",
   "execution_count": 25,
   "id": "a6642e10",
   "metadata": {},
   "outputs": [
    {
     "data": {
      "text/plain": [
       "0.001027"
      ]
     },
     "execution_count": 25,
     "metadata": {},
     "output_type": "execute_result"
    }
   ],
   "source": [
    "0.00_10_27"
   ]
  },
  {
   "cell_type": "markdown",
   "id": "58a2253d",
   "metadata": {},
   "source": [
    "---"
   ]
  },
  {
   "cell_type": "markdown",
   "id": "2d9bbe62",
   "metadata": {},
   "source": [
    "## 문자열(string)\n",
    "나열된 문자들   \n",
    "' ' 또는 \" \" 로 둘러 쌈"
   ]
  },
  {
   "cell_type": "code",
   "execution_count": 27,
   "id": "e7b73e69",
   "metadata": {},
   "outputs": [
    {
     "name": "stdout",
     "output_type": "stream",
     "text": [
      "<class 'str'>\n"
     ]
    }
   ],
   "source": [
    "strVar = \"test\"\n",
    "print(type(strVar))"
   ]
  },
  {
   "cell_type": "code",
   "execution_count": 31,
   "id": "df7501a4",
   "metadata": {},
   "outputs": [
    {
     "name": "stdout",
     "output_type": "stream",
     "text": [
      "This is a literal string\n",
      "This is another string\n",
      "I'm a Python fanatic\n",
      "I\"m a Python fanatic\n",
      "A not very long string that spans two lines\n",
      "A not very long string\n",
      "that spans two lines\n"
     ]
    }
   ],
   "source": [
    "print('This is a literal string')\n",
    "\n",
    "print(\"This is another string\")\n",
    "\n",
    "# 속에 작은 따옴표를 사용할 경우\n",
    "print(\"I'm a Python fanatic\")\n",
    "\n",
    "# 속에 큰 따옴표를 사용할 경우\n",
    "print('I\"m a Python fanatic')\n",
    "\n",
    "# 문장을 두 줄 이상으로 표시할 경우\n",
    "print('A not very long string \\\n",
    "that spans two lines')\n",
    "\n",
    "# 출력을 두 줄 이상으로 표시할 경우\n",
    "print(\"\"\"A not very long string\n",
    "that spans two lines\"\"\")"
   ]
  },
  {
   "cell_type": "markdown",
   "id": "1df2a738",
   "metadata": {},
   "source": [
    "---"
   ]
  },
  {
   "cell_type": "markdown",
   "id": "d0e746c7",
   "metadata": {},
   "source": [
    "# __연산자__\n",
    "\n",
    "## 지정 연산자(assignment operator); 할당연산자"
   ]
  },
  {
   "cell_type": "markdown",
   "id": "8a6b6b46",
   "metadata": {},
   "source": [
    "변수의 값을 지정하기 위해 사용 (=)"
   ]
  },
  {
   "cell_type": "markdown",
   "id": "818aa5cc",
   "metadata": {},
   "source": [
    "---"
   ]
  },
  {
   "cell_type": "markdown",
   "id": "ea188e1f",
   "metadata": {},
   "source": [
    "## 산술 연산자(arithmetic operator)\n"
   ]
  },
  {
   "cell_type": "markdown",
   "id": "59f62a9e",
   "metadata": {},
   "source": [
    "|연산자|설명|사용 예|\n",
    "|:---:|---|---|\n",
    "|x + y|x와 y를 더함|c = a + b|\n",
    "|x - y|x에서 y를 뺌|s = a + b|\n",
    "|x * y|x와 y를 곱함|m = a * b|\n",
    "|x / y|x를 y를 나눔|d = a / b|\n",
    "|x // y|x를 y를 나눔(정수 나눗셈)|d = a // b|\n",
    "|x % y|x를 y를 나눈 나머지|r = a % b|\n",
    "|x ** y|x의 y 제곱|r = 2 ** 5|"
   ]
  },
  {
   "cell_type": "code",
   "execution_count": 38,
   "id": "f04118da",
   "metadata": {},
   "outputs": [],
   "source": [
    "a = 10\n",
    "b = 3\n",
    "c = a % b\n",
    "d = a // b\n",
    "e = a / b"
   ]
  },
  {
   "cell_type": "markdown",
   "id": "862697b6",
   "metadata": {},
   "source": [
    "---------"
   ]
  },
  {
   "cell_type": "markdown",
   "id": "2cf2fc91",
   "metadata": {},
   "source": [
    "## 관계 연산자(relation operator)   \n",
    "비교연산자   \n",
    "항의 대소관계 또는 동등관계 판정   \n",
    "연산결과는 True(참) 또는 False(거짓)\n"
   ]
  },
  {
   "cell_type": "code",
   "execution_count": 3,
   "id": "e2f45622",
   "metadata": {},
   "outputs": [
    {
     "name": "stdout",
     "output_type": "stream",
     "text": [
      "True\n",
      "False\n",
      "False\n",
      "True\n"
     ]
    }
   ],
   "source": [
    "score = 95\n",
    "print(score >= 90)   #True\n",
    "print(score < 80)    #False\n",
    "print(score == 90)   #False\n",
    "print(score != 80)   #True"
   ]
  },
  {
   "cell_type": "markdown",
   "id": "ff1833a6",
   "metadata": {},
   "source": [
    "----"
   ]
  },
  {
   "cell_type": "markdown",
   "id": "882b54a3",
   "metadata": {},
   "source": [
    "## 논리 연산자(logical operator)   \n",
    "논리곱(and), 논리합(or), 논리부정(not)   \n",
    "논리 연산의 대상은 True 또는 False. 결과도 True 또는 False"
   ]
  },
  {
   "cell_type": "code",
   "execution_count": 11,
   "id": "75203ad0",
   "metadata": {},
   "outputs": [
    {
     "data": {
      "text/plain": [
       "True"
      ]
     },
     "execution_count": 11,
     "metadata": {},
     "output_type": "execute_result"
    }
   ],
   "source": [
    "exam = 85\n",
    "report = 85\n",
    "exam >= 80 and report >= 80\n"
   ]
  },
  {
   "cell_type": "code",
   "execution_count": 12,
   "id": "90765c3a",
   "metadata": {},
   "outputs": [
    {
     "data": {
      "text/plain": [
       "False"
      ]
     },
     "execution_count": 12,
     "metadata": {},
     "output_type": "execute_result"
    }
   ],
   "source": [
    "exam = 85\n",
    "report = 85\n",
    "exam >= 90 or report >=90"
   ]
  },
  {
   "cell_type": "code",
   "execution_count": 13,
   "id": "4a135f2a",
   "metadata": {},
   "outputs": [
    {
     "data": {
      "text/plain": [
       "False"
      ]
     },
     "execution_count": 13,
     "metadata": {},
     "output_type": "execute_result"
    }
   ],
   "source": [
    "exam = 85\n",
    "report = 85\n",
    "not(exam < 90)"
   ]
  },
  {
   "cell_type": "markdown",
   "id": "c1d917d6",
   "metadata": {},
   "source": [
    "|연산자|설명|사용 예|\n",
    "|:---:|---|---|\n",
    "|x and y|x와 y가 모두 참일때만 연산결과가 참|a=5; print(a > 0 and a < 10)|\n",
    "|x or y|x와 y 둘 중 하나라도 참이면 연산 결과가 참|a=5; print(a < -3 or a > 3)|\n",
    "|notx|x의 부정. x가 참(거짓) 이면 결과는 거짓(참).|a=False; print(not a)|"
   ]
  },
  {
   "cell_type": "markdown",
   "id": "bca1f9a8",
   "metadata": {},
   "source": [
    "-------------"
   ]
  },
  {
   "cell_type": "markdown",
   "id": "e685ad60",
   "metadata": {},
   "source": [
    "## 멤버 연산자(membership operator)   \n",
    "in   \n",
    "특정 문자열 또는 값이 문자열 또는 리스트(반복객체)에 속해 있는지 판별하는 연산자"
   ]
  },
  {
   "cell_type": "code",
   "execution_count": 14,
   "id": "f6ddc7c6",
   "metadata": {},
   "outputs": [
    {
     "data": {
      "text/plain": [
       "True"
      ]
     },
     "execution_count": 14,
     "metadata": {},
     "output_type": "execute_result"
    }
   ],
   "source": [
    "'py' in 'python'"
   ]
  },
  {
   "cell_type": "code",
   "execution_count": 15,
   "id": "3d319e37",
   "metadata": {},
   "outputs": [
    {
     "data": {
      "text/plain": [
       "True"
      ]
     },
     "execution_count": 15,
     "metadata": {},
     "output_type": "execute_result"
    }
   ],
   "source": [
    "'ty' not in 'python'"
   ]
  },
  {
   "cell_type": "markdown",
   "id": "4e265764",
   "metadata": {},
   "source": [
    "---"
   ]
  },
  {
   "cell_type": "markdown",
   "id": "d894442f",
   "metadata": {},
   "source": [
    "## 식별 연산자(identity operator)   \n",
    "is : 양쪽 변수의 주소가 같은지 판단. if id(a) == id(b)   \n",
    "is not : 양쪽 변수의 주소가 다른지 판단. if id(a) != id(b)"
   ]
  },
  {
   "cell_type": "code",
   "execution_count": 18,
   "id": "573d7761",
   "metadata": {},
   "outputs": [
    {
     "data": {
      "text/plain": [
       "140704952533832"
      ]
     },
     "execution_count": 18,
     "metadata": {},
     "output_type": "execute_result"
    }
   ],
   "source": [
    "a = 2\n",
    "b = 2\n",
    "id(a)   #1921220752"
   ]
  },
  {
   "cell_type": "code",
   "execution_count": 20,
   "id": "2aeb7c99",
   "metadata": {},
   "outputs": [
    {
     "data": {
      "text/plain": [
       "140704952533832"
      ]
     },
     "execution_count": 20,
     "metadata": {},
     "output_type": "execute_result"
    }
   ],
   "source": [
    "a = 2\n",
    "b = 2\n",
    "id(b)   #1921220752"
   ]
  },
  {
   "cell_type": "code",
   "execution_count": 24,
   "id": "b0d1b42f",
   "metadata": {},
   "outputs": [
    {
     "data": {
      "text/plain": [
       "True"
      ]
     },
     "execution_count": 24,
     "metadata": {},
     "output_type": "execute_result"
    }
   ],
   "source": [
    "a = 2\n",
    "b = 2\n",
    "id (a) == id(b)"
   ]
  },
  {
   "cell_type": "code",
   "execution_count": 25,
   "id": "f701c269",
   "metadata": {},
   "outputs": [
    {
     "data": {
      "text/plain": [
       "True"
      ]
     },
     "execution_count": 25,
     "metadata": {},
     "output_type": "execute_result"
    }
   ],
   "source": [
    "a = 2\n",
    "b = 2\n",
    "a is b"
   ]
  },
  {
   "cell_type": "code",
   "execution_count": 26,
   "id": "43ae03c8",
   "metadata": {},
   "outputs": [
    {
     "data": {
      "text/plain": [
       "False"
      ]
     },
     "execution_count": 26,
     "metadata": {},
     "output_type": "execute_result"
    }
   ],
   "source": [
    "a = 2\n",
    "b = 2\n",
    "a is not b"
   ]
  },
  {
   "cell_type": "markdown",
   "id": "10ab9f9e",
   "metadata": {},
   "source": [
    "---"
   ]
  },
  {
   "cell_type": "markdown",
   "id": "9b643005",
   "metadata": {},
   "source": [
    "## 타입 에러(type error)   \n",
    "연산할 수 없는 자료형 을 연산하면 타입 에러 발생"
   ]
  },
  {
   "cell_type": "code",
   "execution_count": 29,
   "id": "4dd839e2",
   "metadata": {},
   "outputs": [
    {
     "ename": "SyntaxError",
     "evalue": "invalid syntax. Perhaps you forgot a comma? (2030055780.py, line 5)",
     "output_type": "error",
     "traceback": [
      "\u001b[1;36m  Cell \u001b[1;32mIn[29], line 5\u001b[1;36m\u001b[0m\n\u001b[1;33m    Traceback (most recent call last):\u001b[0m\n\u001b[1;37m               ^\u001b[0m\n\u001b[1;31mSyntaxError\u001b[0m\u001b[1;31m:\u001b[0m invalid syntax. Perhaps you forgot a comma?\n"
     ]
    }
   ],
   "source": [
    "age = 23\n",
    "message = \"Happy\" + age + \"rd Birthday!\"\n",
    "print(message)\n",
    "\n",
    "Traceback (most recent call last):"
   ]
  },
  {
   "cell_type": "code",
   "execution_count": 32,
   "id": "963dc5f9",
   "metadata": {},
   "outputs": [
    {
     "ename": "TypeError",
     "evalue": "can only concatenate str (not \"int\") to str",
     "output_type": "error",
     "traceback": [
      "\u001b[1;31m---------------------------------------------------------------------------\u001b[0m",
      "\u001b[1;31mTypeError\u001b[0m                                 Traceback (most recent call last)",
      "Cell \u001b[1;32mIn[32], line 2\u001b[0m\n\u001b[0;32m      1\u001b[0m age \u001b[38;5;241m=\u001b[39m \u001b[38;5;241m23\u001b[39m\n\u001b[1;32m----> 2\u001b[0m message \u001b[38;5;241m=\u001b[39m \u001b[38;5;124m\"\u001b[39m\u001b[38;5;124mHappy\u001b[39m\u001b[38;5;124m\"\u001b[39m \u001b[38;5;241m+\u001b[39m age \u001b[38;5;241m+\u001b[39m \u001b[38;5;124m\"\u001b[39m\u001b[38;5;124mrd Birthday!\u001b[39m\u001b[38;5;124m\"\u001b[39m\n\u001b[0;32m      3\u001b[0m \u001b[38;5;28mprint\u001b[39m(message)\n\u001b[0;32m      5\u001b[0m message \u001b[38;5;241m=\u001b[39m \u001b[38;5;124m\"\u001b[39m\u001b[38;5;124mHappy\u001b[39m\u001b[38;5;124m\"\u001b[39m \u001b[38;5;241m+\u001b[39m age \u001b[38;5;241m+\u001b[39m \u001b[38;5;124m\"\u001b[39m\u001b[38;5;124mrd Birthday!\u001b[39m\u001b[38;5;124m\"\u001b[39m\n",
      "\u001b[1;31mTypeError\u001b[0m: can only concatenate str (not \"int\") to str"
     ]
    }
   ],
   "source": [
    "age = 23\n",
    "message = \"Happy\" + age + \"rd Birthday!\"\n",
    "print(message)\n",
    "\n",
    "message = \"Happy\" + age + \"rd Birthday!\""
   ]
  },
  {
   "cell_type": "markdown",
   "id": "f8c25d8d",
   "metadata": {},
   "source": [
    "---"
   ]
  },
  {
   "cell_type": "code",
   "execution_count": null,
   "id": "d8eefe33",
   "metadata": {},
   "outputs": [],
   "source": []
  }
 ],
 "metadata": {
  "kernelspec": {
   "display_name": "base",
   "language": "python",
   "name": "python3"
  },
  "language_info": {
   "codemirror_mode": {
    "name": "ipython",
    "version": 3
   },
   "file_extension": ".py",
   "mimetype": "text/x-python",
   "name": "python",
   "nbconvert_exporter": "python",
   "pygments_lexer": "ipython3",
   "version": "3.11.7"
  }
 },
 "nbformat": 4,
 "nbformat_minor": 5
}
