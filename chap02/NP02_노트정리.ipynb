{
 "cells": [
  {
   "cell_type": "markdown",
   "id": "3334f2ef",
   "metadata": {},
   "source": [
    "## 2장 코드정리\n",
    "\n",
    "이 파일은 2장 학습하면서 실행한 내용을 정리한 것이다.\n",
    "\n",
    "날짜 : 2025.9.9\n",
    "\n",
    "학번 : 202011578\n",
    "\n",
    "저자 : 최민호\n",
    "\n",
    "----------"
   ]
  },
  {
   "cell_type": "markdown",
   "id": "952e211a",
   "metadata": {},
   "source": [
    "## print() 함수\n",
    "숫자나 문자열 등의 데어터나 수식을 화면에 출력할때 사용"
   ]
  },
  {
   "cell_type": "code",
   "execution_count": 1,
   "id": "c7a43bb7",
   "metadata": {},
   "outputs": [
    {
     "name": "stdout",
     "output_type": "stream",
     "text": [
      "30\n"
     ]
    }
   ],
   "source": [
    "print(10+20) #( ) 속의 연산 결과 출력"
   ]
  },
  {
   "cell_type": "code",
   "execution_count": 2,
   "id": "b324bff8",
   "metadata": {},
   "outputs": [
    {
     "name": "stdout",
     "output_type": "stream",
     "text": [
      "동양미래대학교\n"
     ]
    }
   ],
   "source": [
    "print(\"동양미래대학교\") # 문자열 출력"
   ]
  },
  {
   "cell_type": "code",
   "execution_count": 5,
   "id": "7bd1a01b",
   "metadata": {},
   "outputs": [
    {
     "name": "stdout",
     "output_type": "stream",
     "text": [
      "abc abc abc \n"
     ]
    }
   ],
   "source": [
    "print(\"abc \"*3) # 문자열 3번 출력"
   ]
  },
  {
   "cell_type": "code",
   "execution_count": 6,
   "id": "4b93d542",
   "metadata": {},
   "outputs": [
    {
     "name": "stdout",
     "output_type": "stream",
     "text": [
      "25 32\n"
     ]
    }
   ],
   "source": [
    "x = 25\n",
    "y = 32\n",
    "z = x+y\n",
    "print(x,y) #변수 x, y의 값 출력"
   ]
  },
  {
   "cell_type": "code",
   "execution_count": 7,
   "id": "955b53f3",
   "metadata": {},
   "outputs": [
    {
     "name": "stdout",
     "output_type": "stream",
     "text": [
      "25 + 32 = 57\n"
     ]
    }
   ],
   "source": [
    "print(x, '+', y, '=', z) # 변수 x, y, z의 값 출력"
   ]
  },
  {
   "cell_type": "markdown",
   "id": "7c31df7d",
   "metadata": {},
   "source": [
    "-------------"
   ]
  },
  {
   "cell_type": "markdown",
   "id": "d48a7f9d",
   "metadata": {},
   "source": [
    "## print() 함수-서식 지정\n",
    "|서식|설명|사용 예|\n",
    "|---|---|---|\n",
    "|%d|10진수 정수로 출력|print(\"%d\" %10)|\n",
    "|%f|실수로 출력|print(\"%f\" %1.2)|\n",
    "|%s|문자열 출력|print(\"%s\" %\"cat\")|\n",
    "|%e|한 글자 출력|print(\"%c\" %\"p\")|\n",
    "|%x|16진수 정수로 출력|print(\"%x\" %10)|\n",
    "|%o|8진수 정수로 출력|print(\"%o\" %8)|\n"
   ]
  },
  {
   "cell_type": "code",
   "execution_count": 10,
   "id": "06126691",
   "metadata": {},
   "outputs": [
    {
     "name": "stdout",
     "output_type": "stream",
     "text": [
      "30\n"
     ]
    }
   ],
   "source": [
    "print(10+20)"
   ]
  },
  {
   "cell_type": "code",
   "execution_count": 11,
   "id": "95944396",
   "metadata": {},
   "outputs": [
    {
     "name": "stdout",
     "output_type": "stream",
     "text": [
      "1020\n"
     ]
    }
   ],
   "source": [
    "print(\"10\"+\"20\") #문자열 연결"
   ]
  },
  {
   "cell_type": "code",
   "execution_count": 13,
   "id": "11e0395a",
   "metadata": {},
   "outputs": [
    {
     "name": "stdout",
     "output_type": "stream",
     "text": [
      "abc abc abc \n"
     ]
    }
   ],
   "source": [
    "print(\"abc \" * 3) #문자열 3번 반복"
   ]
  },
  {
   "cell_type": "code",
   "execution_count": 14,
   "id": "c3388e88",
   "metadata": {},
   "outputs": [
    {
     "name": "stdout",
     "output_type": "stream",
     "text": [
      "n = 10\n"
     ]
    }
   ],
   "source": [
    "n=10\n",
    "print(\"n = %d\" %n) #서식 지정 출력"
   ]
  },
  {
   "cell_type": "code",
   "execution_count": 15,
   "id": "467bb004",
   "metadata": {},
   "outputs": [
    {
     "name": "stdout",
     "output_type": "stream",
     "text": [
      "m=5.2, n=10\n"
     ]
    }
   ],
   "source": [
    "m = 5.2\n",
    "print(\"m=%.1f, n=%d\" %(m,n)) #%.1f = 소수점 첫째자리까지 출력"
   ]
  },
  {
   "cell_type": "markdown",
   "id": "27f77ef6",
   "metadata": {},
   "source": [
    "---"
   ]
  },
  {
   "cell_type": "markdown",
   "id": "6c4ec92a",
   "metadata": {},
   "source": [
    "## input() 함수\n",
    "키보드를 이용하여 숫자나 문자열 등의 데이터를 입력 받을 때 사용   \n",
    "입력된 정보는 문자열이다."
   ]
  },
  {
   "cell_type": "code",
   "execution_count": 16,
   "id": "d1b4f7d4",
   "metadata": {},
   "outputs": [],
   "source": [
    "n = input('type a number: ')"
   ]
  },
  {
   "cell_type": "code",
   "execution_count": null,
   "id": "3aee7261",
   "metadata": {},
   "outputs": [
    {
     "data": {
      "text/plain": [
       "'3'"
      ]
     },
     "execution_count": 17,
     "metadata": {},
     "output_type": "execute_result"
    }
   ],
   "source": [
    "n #문자열로 입력된다"
   ]
  },
  {
   "cell_type": "code",
   "execution_count": 18,
   "id": "3ddb2d47",
   "metadata": {},
   "outputs": [
    {
     "data": {
      "text/plain": [
       "3"
      ]
     },
     "execution_count": 18,
     "metadata": {},
     "output_type": "execute_result"
    }
   ],
   "source": [
    "int(n) #문자열을 정수로 변환"
   ]
  },
  {
   "cell_type": "code",
   "execution_count": 20,
   "id": "35b7759d",
   "metadata": {},
   "outputs": [
    {
     "data": {
      "text/plain": [
       "3.0"
      ]
     },
     "execution_count": 20,
     "metadata": {},
     "output_type": "execute_result"
    }
   ],
   "source": [
    "float(n) #문자열을 실수형으로 변환"
   ]
  },
  {
   "cell_type": "code",
   "execution_count": 23,
   "id": "596fc163",
   "metadata": {},
   "outputs": [
    {
     "data": {
      "text/plain": [
       "'3'"
      ]
     },
     "execution_count": 23,
     "metadata": {},
     "output_type": "execute_result"
    }
   ],
   "source": [
    "n = str(3) #정수를 문자열로 변환\n",
    "n"
   ]
  },
  {
   "cell_type": "markdown",
   "id": "54b2d49f",
   "metadata": {},
   "source": [
    "---"
   ]
  },
  {
   "cell_type": "markdown",
   "id": "8ee1e94d",
   "metadata": {},
   "source": [
    "## 입출력 함수의 사용 예"
   ]
  },
  {
   "cell_type": "code",
   "execution_count": null,
   "id": "75820923",
   "metadata": {},
   "outputs": [
    {
     "name": "stdout",
     "output_type": "stream",
     "text": [
      "Hello, \n"
     ]
    }
   ],
   "source": [
    "#문자열 결합 후 출력\n",
    "name = input('Name: ') #문자열 입력\n",
    "print(\"Hello, \" + name)"
   ]
  },
  {
   "cell_type": "code",
   "execution_count": 4,
   "id": "75c5931b",
   "metadata": {},
   "outputs": [
    {
     "name": "stdout",
     "output_type": "stream",
     "text": [
      "6\n"
     ]
    }
   ],
   "source": [
    "#두 정수를 입력 받아 곱셈 결과 출력\n",
    "a = int(input('Number 1: '))\n",
    "b = int(input('Number 2: '))\n",
    "print(a * b)"
   ]
  },
  {
   "cell_type": "code",
   "execution_count": 5,
   "id": "9f02db64",
   "metadata": {},
   "outputs": [
    {
     "name": "stdout",
     "output_type": "stream",
     "text": [
      "화씨온도는 95.0\n"
     ]
    }
   ],
   "source": [
    "# 섭씨온도(C)를 입력 받아 화씨온도(F)로 바꾸어 출력\n",
    "C = float(input(\"Type 섭씨온도 : \")) #입력 문자열을 실수로 변환\n",
    "F = C*9/5+32 #온도 변환\n",
    "print(\"화씨온도는\", F)"
   ]
  },
  {
   "cell_type": "code",
   "execution_count": null,
   "id": "a71b7a5b",
   "metadata": {},
   "outputs": [],
   "source": []
  }
 ],
 "metadata": {
  "kernelspec": {
   "display_name": "base",
   "language": "python",
   "name": "python3"
  },
  "language_info": {
   "codemirror_mode": {
    "name": "ipython",
    "version": 3
   },
   "file_extension": ".py",
   "mimetype": "text/x-python",
   "name": "python",
   "nbconvert_exporter": "python",
   "pygments_lexer": "ipython3",
   "version": "3.11.7"
  }
 },
 "nbformat": 4,
 "nbformat_minor": 5
}
