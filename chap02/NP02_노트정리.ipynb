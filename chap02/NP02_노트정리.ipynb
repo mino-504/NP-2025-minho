{
 "cells": [
  {
   "cell_type": "markdown",
   "id": "3334f2ef",
   "metadata": {},
   "source": [
    "## 2장 코드정리\n",
    "\n",
    "이 파일은 2장 학습하면서 실행한 내용을 정리한 것이다.\n",
    "\n",
    "날짜 : 2025.9.9\n",
    "\n",
    "학번 : 202011578\n",
    "\n",
    "저자 : 최민호    \n",
    "\n",
    "----------"
   ]
  },
  {
   "cell_type": "markdown",
   "id": "952e211a",
   "metadata": {},
   "source": [
    "# __기본 입출력 함수__\n",
    "\n",
    "## print() 함수\n",
    "숫자나 문자열 등의 데어터나 수식을 화면에 출력할때 사용"
   ]
  },
  {
   "cell_type": "code",
   "execution_count": 1,
   "id": "c7a43bb7",
   "metadata": {},
   "outputs": [
    {
     "name": "stdout",
     "output_type": "stream",
     "text": [
      "30\n"
     ]
    }
   ],
   "source": [
    "print(10+20) #( ) 속의 연산 결과 출력"
   ]
  },
  {
   "cell_type": "code",
   "execution_count": 2,
   "id": "b324bff8",
   "metadata": {},
   "outputs": [
    {
     "name": "stdout",
     "output_type": "stream",
     "text": [
      "동양미래대학교\n"
     ]
    }
   ],
   "source": [
    "print(\"동양미래대학교\") # 문자열 출력"
   ]
  },
  {
   "cell_type": "code",
   "execution_count": 5,
   "id": "7bd1a01b",
   "metadata": {},
   "outputs": [
    {
     "name": "stdout",
     "output_type": "stream",
     "text": [
      "abc abc abc \n"
     ]
    }
   ],
   "source": [
    "print(\"abc \"*3) # 문자열 3번 출력"
   ]
  },
  {
   "cell_type": "code",
   "execution_count": 6,
   "id": "4b93d542",
   "metadata": {},
   "outputs": [
    {
     "name": "stdout",
     "output_type": "stream",
     "text": [
      "25 32\n"
     ]
    }
   ],
   "source": [
    "x = 25\n",
    "y = 32\n",
    "z = x+y\n",
    "print(x,y) #변수 x, y의 값 출력"
   ]
  },
  {
   "cell_type": "code",
   "execution_count": 7,
   "id": "955b53f3",
   "metadata": {},
   "outputs": [
    {
     "name": "stdout",
     "output_type": "stream",
     "text": [
      "25 + 32 = 57\n"
     ]
    }
   ],
   "source": [
    "print(x, '+', y, '=', z) # 변수 x, y, z의 값 출력"
   ]
  },
  {
   "cell_type": "markdown",
   "id": "7c31df7d",
   "metadata": {},
   "source": [
    "-------------"
   ]
  },
  {
   "cell_type": "markdown",
   "id": "d48a7f9d",
   "metadata": {},
   "source": [
    "## print() 함수-서식 지정\n",
    "|서식|설명|사용 예|\n",
    "|---|---|---|\n",
    "|%d|10진수 정수로 출력|print(\"%d\" %10)|\n",
    "|%f|실수로 출력|print(\"%f\" %1.2)|\n",
    "|%s|문자열 출력|print(\"%s\" %\"cat\")|\n",
    "|%e|한 글자 출력|print(\"%c\" %\"p\")|\n",
    "|%x|16진수 정수로 출력|print(\"%x\" %10)|\n",
    "|%o|8진수 정수로 출력|print(\"%o\" %8)|\n"
   ]
  },
  {
   "cell_type": "code",
   "execution_count": 10,
   "id": "06126691",
   "metadata": {},
   "outputs": [
    {
     "name": "stdout",
     "output_type": "stream",
     "text": [
      "30\n"
     ]
    }
   ],
   "source": [
    "print(10+20)"
   ]
  },
  {
   "cell_type": "code",
   "execution_count": 11,
   "id": "95944396",
   "metadata": {},
   "outputs": [
    {
     "name": "stdout",
     "output_type": "stream",
     "text": [
      "1020\n"
     ]
    }
   ],
   "source": [
    "print(\"10\"+\"20\") #문자열 연결"
   ]
  },
  {
   "cell_type": "code",
   "execution_count": 13,
   "id": "11e0395a",
   "metadata": {},
   "outputs": [
    {
     "name": "stdout",
     "output_type": "stream",
     "text": [
      "abc abc abc \n"
     ]
    }
   ],
   "source": [
    "print(\"abc \" * 3) #문자열 3번 반복"
   ]
  },
  {
   "cell_type": "code",
   "execution_count": 14,
   "id": "c3388e88",
   "metadata": {},
   "outputs": [
    {
     "name": "stdout",
     "output_type": "stream",
     "text": [
      "n = 10\n"
     ]
    }
   ],
   "source": [
    "n=10\n",
    "print(\"n = %d\" %n) #서식 지정 출력"
   ]
  },
  {
   "cell_type": "code",
   "execution_count": 15,
   "id": "467bb004",
   "metadata": {},
   "outputs": [
    {
     "name": "stdout",
     "output_type": "stream",
     "text": [
      "m=5.2, n=10\n"
     ]
    }
   ],
   "source": [
    "m = 5.2\n",
    "print(\"m=%.1f, n=%d\" %(m,n)) #%.1f = 소수점 첫째자리까지 출력"
   ]
  },
  {
   "cell_type": "markdown",
   "id": "27f77ef6",
   "metadata": {},
   "source": [
    "---"
   ]
  },
  {
   "cell_type": "markdown",
   "id": "6c4ec92a",
   "metadata": {},
   "source": [
    "## input() 함수\n",
    "키보드를 이용하여 숫자나 문자열 등의 데이터를 입력 받을 때 사용   \n",
    "입력된 정보는 문자열이다."
   ]
  },
  {
   "cell_type": "code",
   "execution_count": 16,
   "id": "d1b4f7d4",
   "metadata": {},
   "outputs": [],
   "source": [
    "n = input('type a number: ')"
   ]
  },
  {
   "cell_type": "code",
   "execution_count": null,
   "id": "3aee7261",
   "metadata": {},
   "outputs": [
    {
     "data": {
      "text/plain": [
       "'3'"
      ]
     },
     "execution_count": 17,
     "metadata": {},
     "output_type": "execute_result"
    }
   ],
   "source": [
    "n #문자열로 입력된다"
   ]
  },
  {
   "cell_type": "code",
   "execution_count": 18,
   "id": "3ddb2d47",
   "metadata": {},
   "outputs": [
    {
     "data": {
      "text/plain": [
       "3"
      ]
     },
     "execution_count": 18,
     "metadata": {},
     "output_type": "execute_result"
    }
   ],
   "source": [
    "int(n) #문자열을 정수로 변환"
   ]
  },
  {
   "cell_type": "code",
   "execution_count": 20,
   "id": "35b7759d",
   "metadata": {},
   "outputs": [
    {
     "data": {
      "text/plain": [
       "3.0"
      ]
     },
     "execution_count": 20,
     "metadata": {},
     "output_type": "execute_result"
    }
   ],
   "source": [
    "float(n) #문자열을 실수형으로 변환"
   ]
  },
  {
   "cell_type": "code",
   "execution_count": 23,
   "id": "596fc163",
   "metadata": {},
   "outputs": [
    {
     "data": {
      "text/plain": [
       "'3'"
      ]
     },
     "execution_count": 23,
     "metadata": {},
     "output_type": "execute_result"
    }
   ],
   "source": [
    "n = str(3) #정수를 문자열로 변환\n",
    "n"
   ]
  },
  {
   "cell_type": "markdown",
   "id": "54b2d49f",
   "metadata": {},
   "source": [
    "---"
   ]
  },
  {
   "cell_type": "markdown",
   "id": "8ee1e94d",
   "metadata": {},
   "source": [
    "## 입출력 함수의 사용 예"
   ]
  },
  {
   "cell_type": "code",
   "execution_count": 6,
   "id": "75820923",
   "metadata": {},
   "outputs": [
    {
     "name": "stdout",
     "output_type": "stream",
     "text": [
      "Hello, MINO\n"
     ]
    }
   ],
   "source": [
    "#문자열 결합 후 출력\n",
    "name = input('Name: ') #문자열 입력\n",
    "print(\"Hello, \" + name)"
   ]
  },
  {
   "cell_type": "code",
   "execution_count": 4,
   "id": "75c5931b",
   "metadata": {},
   "outputs": [
    {
     "name": "stdout",
     "output_type": "stream",
     "text": [
      "6\n"
     ]
    }
   ],
   "source": [
    "#두 정수를 입력 받아 곱셈 결과 출력\n",
    "a = int(input('Number 1: '))\n",
    "b = int(input('Number 2: '))\n",
    "print(a * b)"
   ]
  },
  {
   "cell_type": "code",
   "execution_count": 5,
   "id": "9f02db64",
   "metadata": {},
   "outputs": [
    {
     "name": "stdout",
     "output_type": "stream",
     "text": [
      "화씨온도는 95.0\n"
     ]
    }
   ],
   "source": [
    "# 섭씨온도(C)를 입력 받아 화씨온도(F)로 바꾸어 출력\n",
    "C = float(input(\"Type 섭씨온도 : \")) #입력 문자열을 실수로 변환\n",
    "F = C*9/5+32 #온도 변환\n",
    "print(\"화씨온도는\", F)"
   ]
  },
  {
   "cell_type": "markdown",
   "id": "a71b7a5b",
   "metadata": {},
   "source": [
    "---"
   ]
  },
  {
   "cell_type": "markdown",
   "id": "414f1d00",
   "metadata": {},
   "source": [
    "# __기본 자료형__\n",
    "\n",
    "## 부울형(Boolean)"
   ]
  },
  {
   "cell_type": "markdown",
   "id": "972fbb11",
   "metadata": {},
   "source": [
    "참(True) 또는 거짓(False) 중 하나의 값을 갖는 자료형(True, False)    \n",
    "비교 결과를 저장할 때 사용"
   ]
  },
  {
   "cell_type": "code",
   "execution_count": 11,
   "id": "acc99d29",
   "metadata": {},
   "outputs": [
    {
     "name": "stdout",
     "output_type": "stream",
     "text": [
      "<class 'bool'>\n"
     ]
    }
   ],
   "source": [
    "aVar = True\n",
    "bVar = False\n",
    "print(type(aVar))"
   ]
  },
  {
   "cell_type": "code",
   "execution_count": 12,
   "id": "da144328",
   "metadata": {},
   "outputs": [
    {
     "data": {
      "text/plain": [
       "False"
      ]
     },
     "execution_count": 12,
     "metadata": {},
     "output_type": "execute_result"
    }
   ],
   "source": [
    "a=1\n",
    "b=2\n",
    "c=a>b\n",
    "c"
   ]
  },
  {
   "cell_type": "code",
   "execution_count": 13,
   "id": "9e409887",
   "metadata": {},
   "outputs": [
    {
     "data": {
      "text/plain": [
       "True"
      ]
     },
     "execution_count": 13,
     "metadata": {},
     "output_type": "execute_result"
    }
   ],
   "source": [
    "d=a<b\n",
    "d"
   ]
  },
  {
   "cell_type": "markdown",
   "id": "a83c0319",
   "metadata": {},
   "source": [
    "---"
   ]
  },
  {
   "cell_type": "markdown",
   "id": "d1556af3",
   "metadata": {},
   "source": [
    "## 정수(integer)형"
   ]
  },
  {
   "cell_type": "code",
   "execution_count": 14,
   "id": "fd7b4020",
   "metadata": {},
   "outputs": [
    {
     "name": "stdout",
     "output_type": "stream",
     "text": [
      "<class 'int'>\n"
     ]
    }
   ],
   "source": [
    "#소수점 없는 숫자 표현\n",
    "intVar = 5\n",
    "print(type(intVar))"
   ]
  },
  {
   "cell_type": "code",
   "execution_count": 19,
   "id": "29cc689d",
   "metadata": {},
   "outputs": [
    {
     "name": "stdout",
     "output_type": "stream",
     "text": [
      "1 23 3493\n",
      "53 50\n",
      "1 23 3493\n",
      "1 23 3493\n"
     ]
    }
   ],
   "source": [
    "#여러 지 정수 표현\n",
    "print(1, 23, 3493)          # 10진수\n",
    "print(0b0110101, 0b110010)  # 2진수\n",
    "print(0o1, 0o27, 0o6645)    # 8진수\n",
    "print(0x1, 0x17, 0xDA5)     # 16진수"
   ]
  },
  {
   "cell_type": "markdown",
   "id": "e2b746e3",
   "metadata": {},
   "source": [
    "---"
   ]
  },
  {
   "cell_type": "markdown",
   "id": "f4779ea8",
   "metadata": {},
   "source": [
    "## 실수(float)형"
   ]
  },
  {
   "cell_type": "code",
   "execution_count": 22,
   "id": "7776133c",
   "metadata": {},
   "outputs": [
    {
     "name": "stdout",
     "output_type": "stream",
     "text": [
      "<class 'float'>\n"
     ]
    }
   ],
   "source": [
    "fVar = 1.0\n",
    "print(type(fVar))"
   ]
  },
  {
   "cell_type": "code",
   "execution_count": 23,
   "id": "435c6e01",
   "metadata": {},
   "outputs": [
    {
     "data": {
      "text/plain": [
       "(0.0, 0.0, 0.0, 1.0, 1.0, 1.0, 1.0, 100.0)"
      ]
     },
     "execution_count": 23,
     "metadata": {},
     "output_type": "execute_result"
    }
   ],
   "source": [
    "# 여러 가지 실수 표현\n",
    "0., 0.0, .0, 1., 1.0, 1e0, 1.e0, 1.0e2"
   ]
  },
  {
   "cell_type": "markdown",
   "id": "76b61d7f",
   "metadata": {},
   "source": [
    "---"
   ]
  },
  {
   "cell_type": "markdown",
   "id": "ad1244e5",
   "metadata": {},
   "source": [
    "## 쉽게 식별할 수 있도록 _를 사용한 숫자의 표현(파이썬 3.6 부터 적용)"
   ]
  },
  {
   "cell_type": "code",
   "execution_count": 24,
   "id": "9853d868",
   "metadata": {},
   "outputs": [
    {
     "data": {
      "text/plain": [
       "(100000.0000001, 65535, 4095, 170)"
      ]
     },
     "execution_count": 24,
     "metadata": {},
     "output_type": "execute_result"
    }
   ],
   "source": [
    "100_000.000_0001, 0x_FF_FF, 0o7_777, 0b_1010_1010"
   ]
  },
  {
   "cell_type": "code",
   "execution_count": 25,
   "id": "a6642e10",
   "metadata": {},
   "outputs": [
    {
     "data": {
      "text/plain": [
       "0.001027"
      ]
     },
     "execution_count": 25,
     "metadata": {},
     "output_type": "execute_result"
    }
   ],
   "source": [
    "0.00_10_27"
   ]
  },
  {
   "cell_type": "markdown",
   "id": "58a2253d",
   "metadata": {},
   "source": [
    "---"
   ]
  },
  {
   "cell_type": "markdown",
   "id": "2d9bbe62",
   "metadata": {},
   "source": [
    "## 문자열(string)\n",
    "나열된 문자들   \n",
    "' ' 또는 \" \" 로 둘러 쌈"
   ]
  },
  {
   "cell_type": "code",
   "execution_count": 27,
   "id": "e7b73e69",
   "metadata": {},
   "outputs": [
    {
     "name": "stdout",
     "output_type": "stream",
     "text": [
      "<class 'str'>\n"
     ]
    }
   ],
   "source": [
    "strVar = \"test\"\n",
    "print(type(strVar))"
   ]
  },
  {
   "cell_type": "code",
   "execution_count": 31,
   "id": "df7501a4",
   "metadata": {},
   "outputs": [
    {
     "name": "stdout",
     "output_type": "stream",
     "text": [
      "This is a literal string\n",
      "This is another string\n",
      "I'm a Python fanatic\n",
      "I\"m a Python fanatic\n",
      "A not very long string that spans two lines\n",
      "A not very long string\n",
      "that spans two lines\n"
     ]
    }
   ],
   "source": [
    "print('This is a literal string')\n",
    "\n",
    "print(\"This is another string\")\n",
    "\n",
    "# 속에 작은 따옴표를 사용할 경우\n",
    "print(\"I'm a Python fanatic\")\n",
    "\n",
    "# 속에 큰 따옴표를 사용할 경우\n",
    "print('I\"m a Python fanatic')\n",
    "\n",
    "# 문장을 두 줄 이상으로 표시할 경우\n",
    "print('A not very long string \\\n",
    "that spans two lines')\n",
    "\n",
    "# 출력을 두 줄 이상으로 표시할 경우\n",
    "print(\"\"\"A not very long string\n",
    "that spans two lines\"\"\")"
   ]
  },
  {
   "cell_type": "markdown",
   "id": "1df2a738",
   "metadata": {},
   "source": [
    "---"
   ]
  },
  {
   "cell_type": "markdown",
   "id": "d0e746c7",
   "metadata": {},
   "source": [
    "# __연산자__\n",
    "\n",
    "## 지정 연산자(assignment operator); 할당연산자"
   ]
  },
  {
   "cell_type": "markdown",
   "id": "8a6b6b46",
   "metadata": {},
   "source": [
    "변수의 값을 지정하기 위해 사용 (=)"
   ]
  },
  {
   "cell_type": "markdown",
   "id": "818aa5cc",
   "metadata": {},
   "source": [
    "---"
   ]
  },
  {
   "cell_type": "markdown",
   "id": "ea188e1f",
   "metadata": {},
   "source": [
    "## 산술 연산자(arithmetic operator)\n"
   ]
  },
  {
   "cell_type": "markdown",
   "id": "59f62a9e",
   "metadata": {},
   "source": [
    "|연산자|설명|사용 예|\n",
    "|:---:|---|---|\n",
    "|x + y|x와 y를 더함|c = a + b|\n",
    "|x - y|x에서 y를 뺌|s = a + b|\n",
    "|x * y|x와 y를 곱함|m = a * b|\n",
    "|x / y|x를 y를 나눔|d = a / b|\n",
    "|x // y|x를 y를 나눔(정수 나눗셈)|d = a // b|\n",
    "|x % y|x를 y를 나눈 나머지|r = a % b|\n",
    "|x ** y|x의 y 제곱|r = 2 ** 5|"
   ]
  },
  {
   "cell_type": "code",
   "execution_count": 38,
   "id": "f04118da",
   "metadata": {},
   "outputs": [],
   "source": [
    "a = 10\n",
    "b = 3\n",
    "c = a % b\n",
    "d = a // b\n",
    "e = a / b"
   ]
  },
  {
   "cell_type": "code",
   "execution_count": null,
   "id": "661a7fa6",
   "metadata": {},
   "outputs": [],
   "source": []
  }
 ],
 "metadata": {
  "kernelspec": {
   "display_name": "base",
   "language": "python",
   "name": "python3"
  },
  "language_info": {
   "codemirror_mode": {
    "name": "ipython",
    "version": 3
   },
   "file_extension": ".py",
   "mimetype": "text/x-python",
   "name": "python",
   "nbconvert_exporter": "python",
   "pygments_lexer": "ipython3",
   "version": "3.11.7"
  }
 },
 "nbformat": 4,
 "nbformat_minor": 5
}
