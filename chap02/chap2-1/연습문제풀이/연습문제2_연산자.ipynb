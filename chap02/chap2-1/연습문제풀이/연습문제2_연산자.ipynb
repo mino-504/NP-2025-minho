{
 "cells": [
  {
   "cell_type": "markdown",
   "id": "59110acd",
   "metadata": {},
   "source": [
    "# 연산자 (NP2-1 p.17)"
   ]
  },
  {
   "cell_type": "markdown",
   "id": "8626a931",
   "metadata": {},
   "source": [
    "### 산술 및 관계 연산자 연습문제"
   ]
  },
  {
   "cell_type": "markdown",
   "id": "b3d046f2",
   "metadata": {},
   "source": [
    "1. 5와 3을 더한 값을 출력하는 프로그램을 작성하라."
   ]
  },
  {
   "cell_type": "code",
   "execution_count": 2,
   "id": "54195003",
   "metadata": {},
   "outputs": [
    {
     "name": "stdout",
     "output_type": "stream",
     "text": [
      "8\n"
     ]
    }
   ],
   "source": [
    "a = 5\n",
    "b = 3\n",
    "print(a+b)"
   ]
  },
  {
   "cell_type": "markdown",
   "id": "3080eabb",
   "metadata": {},
   "source": [
    "2. 7에서 3을 뺀 값을 출력하는 프로그램을 작성하라."
   ]
  },
  {
   "cell_type": "code",
   "execution_count": 3,
   "id": "b389b0a5",
   "metadata": {},
   "outputs": [
    {
     "name": "stdout",
     "output_type": "stream",
     "text": [
      "4\n"
     ]
    }
   ],
   "source": [
    "a = 7\n",
    "b = 3\n",
    "print(a-b)"
   ]
  },
  {
   "cell_type": "markdown",
   "id": "55d22866",
   "metadata": {},
   "source": [
    "3. 4를 2로 나눈 값을 출력하는 프로그램을 작성하라."
   ]
  },
  {
   "cell_type": "code",
   "execution_count": 6,
   "id": "f1c0c717",
   "metadata": {},
   "outputs": [
    {
     "name": "stdout",
     "output_type": "stream",
     "text": [
      "2.0\n"
     ]
    }
   ],
   "source": [
    "a = 4\n",
    "b = 2\n",
    "print(a/b)"
   ]
  },
  {
   "cell_type": "markdown",
   "id": "8f677dac",
   "metadata": {},
   "source": [
    "4. 8을 3으로 나눈 몫과 나머지를 출력하는 프로그램을 작성하라."
   ]
  },
  {
   "cell_type": "code",
   "execution_count": 7,
   "id": "0fcc2eb6",
   "metadata": {},
   "outputs": [
    {
     "name": "stdout",
     "output_type": "stream",
     "text": [
      "2\n",
      "2\n"
     ]
    }
   ],
   "source": [
    "a = 8\n",
    "b = 3\n",
    "print(a//b)\n",
    "print(a%b)"
   ]
  },
  {
   "cell_type": "markdown",
   "id": "05028199",
   "metadata": {},
   "source": [
    "5. 2의 5제곱을 출력하는 프로그램을 작성하라."
   ]
  },
  {
   "cell_type": "code",
   "execution_count": 9,
   "id": "3aca54d3",
   "metadata": {},
   "outputs": [
    {
     "name": "stdout",
     "output_type": "stream",
     "text": [
      "32\n"
     ]
    }
   ],
   "source": [
    "a = 2\n",
    "b = 5\n",
    "print(a**b)"
   ]
  },
  {
   "cell_type": "markdown",
   "id": "a38ed957",
   "metadata": {},
   "source": [
    "6. 입력된 정수가 10보다 크고 20보다 작은지 검사하는 프로그램을 작성하라."
   ]
  },
  {
   "cell_type": "code",
   "execution_count": 11,
   "id": "c0904ae9",
   "metadata": {},
   "outputs": [
    {
     "name": "stdout",
     "output_type": "stream",
     "text": [
      "True\n"
     ]
    }
   ],
   "source": [
    "a = int(input('정수: '))   #a = 15\n",
    "if a > 10 and a < 20:\n",
    "    print('True')\n",
    "else:\n",
    "    print('False')"
   ]
  },
  {
   "cell_type": "markdown",
   "id": "466d5a40",
   "metadata": {},
   "source": [
    "7. 문자열 \"hello\"와 문자열 \"world\"를 이어 붙인 결과를 출력하는 프로그램을 작성하라."
   ]
  },
  {
   "cell_type": "code",
   "execution_count": 12,
   "id": "28ef48ba",
   "metadata": {},
   "outputs": [
    {
     "name": "stdout",
     "output_type": "stream",
     "text": [
      "helloworld\n"
     ]
    }
   ],
   "source": [
    "a = 'hello'\n",
    "b = 'world'\n",
    "print(a+b)"
   ]
  },
  {
   "cell_type": "markdown",
   "id": "659e9fe1",
   "metadata": {},
   "source": [
    "8. 7을 2로 나눈 결과가 3보다 작은지 검사하는 프로그램을 작성하라."
   ]
  },
  {
   "cell_type": "code",
   "execution_count": 13,
   "id": "407f31ec",
   "metadata": {},
   "outputs": [
    {
     "name": "stdout",
     "output_type": "stream",
     "text": [
      "False\n"
     ]
    }
   ],
   "source": [
    "a = 7\n",
    "b = 2\n",
    "print(a/b < 3)"
   ]
  },
  {
   "cell_type": "markdown",
   "id": "47153bb2",
   "metadata": {},
   "source": [
    "9. 변수 x의 값이 5와 같지 않은지 검사하는 프로그램을 작성하라."
   ]
  },
  {
   "cell_type": "code",
   "execution_count": 15,
   "id": "0c7a18d7",
   "metadata": {},
   "outputs": [
    {
     "name": "stdout",
     "output_type": "stream",
     "text": [
      "False\n"
     ]
    }
   ],
   "source": [
    "x = int(input('정수: '))   #x = 5\n",
    "print(x != 5)"
   ]
  },
  {
   "cell_type": "markdown",
   "id": "9c100b49",
   "metadata": {},
   "source": [
    "10. 변수 y의 값이 10에서 20 사이의 값인지 검사하는 프로그램을 작성하라."
   ]
  },
  {
   "cell_type": "code",
   "execution_count": 16,
   "id": "95a83ce2",
   "metadata": {},
   "outputs": [
    {
     "name": "stdout",
     "output_type": "stream",
     "text": [
      "True\n"
     ]
    }
   ],
   "source": [
    "y = int(input('정수: '))   #y = 15\n",
    "print(y >= 10 and y <= 20)"
   ]
  },
  {
   "cell_type": "markdown",
   "id": "54fa9f28",
   "metadata": {},
   "source": [
    "---"
   ]
  },
  {
   "cell_type": "markdown",
   "id": "f0841101",
   "metadata": {},
   "source": [
    "### 논리 연산자 연습문제"
   ]
  },
  {
   "cell_type": "markdown",
   "id": "8db8240e",
   "metadata": {},
   "source": [
    "1. 5가 3보다 크고 7보다 작은지 검사하는 프로그램을 작성하라."
   ]
  },
  {
   "cell_type": "code",
   "execution_count": 19,
   "id": "5cdf0f0a",
   "metadata": {},
   "outputs": [
    {
     "name": "stdout",
     "output_type": "stream",
     "text": [
      "True\n"
     ]
    }
   ],
   "source": [
    "a = 5\n",
    "print(a > 3 and a < 7)"
   ]
  },
  {
   "cell_type": "markdown",
   "id": "5c2f7329",
   "metadata": {},
   "source": [
    "2. 변수 x가 10이상이고 20이하인지 검사하는 프로그램을 작성하라."
   ]
  },
  {
   "cell_type": "code",
   "execution_count": 20,
   "id": "7d6ca92d",
   "metadata": {},
   "outputs": [
    {
     "name": "stdout",
     "output_type": "stream",
     "text": [
      "True\n"
     ]
    }
   ],
   "source": [
    "x = int(input('정수: '))   #x = 15\n",
    "print(x >= 10 and x <= 20)"
   ]
  },
  {
   "cell_type": "markdown",
   "id": "52030c8e",
   "metadata": {},
   "source": [
    "3. 변수y가 5의 배수이거나 7의 배수인지 검사하는 프로그램을 작성하라."
   ]
  },
  {
   "cell_type": "code",
   "execution_count": 21,
   "id": "ca852798",
   "metadata": {},
   "outputs": [
    {
     "name": "stdout",
     "output_type": "stream",
     "text": [
      "True\n"
     ]
    }
   ],
   "source": [
    "y = int(input('정수: '))   #y = 15\n",
    "print(y % 5 == 0 or y % 7 == 0)"
   ]
  },
  {
   "cell_type": "markdown",
   "id": "4d68d8ee",
   "metadata": {},
   "source": [
    "4. 변수z가 양수이면서 짝수인지 검사하는 프로그램을 작성하라."
   ]
  },
  {
   "cell_type": "code",
   "execution_count": 22,
   "id": "1d50f908",
   "metadata": {},
   "outputs": [
    {
     "name": "stdout",
     "output_type": "stream",
     "text": [
      "True\n"
     ]
    }
   ],
   "source": [
    "z = int(input('정수: '))   #z = 10\n",
    "print(z > 0 and z % 2 == 0)"
   ]
  },
  {
   "cell_type": "markdown",
   "id": "5d5a9e62",
   "metadata": {},
   "source": [
    "5. 변수 a가 문자열 \"hello\"나 문자열 \"world\" 중 하나인지 검사하는 프로그램을 작성하라."
   ]
  },
  {
   "cell_type": "code",
   "execution_count": 23,
   "id": "51fc6fac",
   "metadata": {},
   "outputs": [
    {
     "name": "stdout",
     "output_type": "stream",
     "text": [
      "True\n"
     ]
    }
   ],
   "source": [
    "a = input('문자열: ')   #a = \"hello\"\n",
    "print(a == \"hello\" or a == \"world\")"
   ]
  },
  {
   "cell_type": "markdown",
   "id": "3c2a4a74",
   "metadata": {},
   "source": [
    "---"
   ]
  },
  {
   "cell_type": "markdown",
   "id": "64b4e8d9",
   "metadata": {},
   "source": [
    "### 멤버 연산자 연습문제"
   ]
  },
  {
   "cell_type": "markdown",
   "id": "f5a6362e",
   "metadata": {},
   "source": [
    "1. 숫자 7이 리스트 [1, 2, 3, 4, 5]에 포함되어 있는지 검사하는 프로그램을 작성하라."
   ]
  },
  {
   "cell_type": "code",
   "execution_count": 25,
   "id": "40f333ec",
   "metadata": {},
   "outputs": [
    {
     "name": "stdout",
     "output_type": "stream",
     "text": [
      "False\n"
     ]
    }
   ],
   "source": [
    "a = [1, 2, 3, 4, 5]\n",
    "print(7 in a)"
   ]
  },
  {
   "cell_type": "markdown",
   "id": "d07b2e67",
   "metadata": {},
   "source": [
    "2. 문자열 \"apple\"이 세트 {\"orange\", \"banana\", \"kiwi\"}에 포함되어 있는지 검사하는 프로그램을 작성하라."
   ]
  },
  {
   "cell_type": "code",
   "execution_count": 26,
   "id": "11808d14",
   "metadata": {},
   "outputs": [
    {
     "name": "stdout",
     "output_type": "stream",
     "text": [
      "False\n"
     ]
    }
   ],
   "source": [
    "a = {\"orange\", \"banana\", \"kiwi\"}\n",
    "print(\"apple\" in a)"
   ]
  },
  {
   "cell_type": "markdown",
   "id": "9030d017",
   "metadata": {},
   "source": [
    "3. 숫자 6이 딕셔너리 {\"a\": 1, \"b\": 2, \"c\": 3, \"d\": 4}의 값들 중 하나인지 검사하는 프로그램을 작성하라."
   ]
  },
  {
   "cell_type": "code",
   "execution_count": 29,
   "id": "3c1135a1",
   "metadata": {},
   "outputs": [
    {
     "name": "stdout",
     "output_type": "stream",
     "text": [
      "False\n"
     ]
    }
   ],
   "source": [
    "dict = {\"a\": 1, \"b\": 2, \"c\": 3, \"d\": 4}\n",
    "print(6 in dict.values())"
   ]
  },
  {
   "cell_type": "markdown",
   "id": "da17ce8d",
   "metadata": {},
   "source": [
    "4. 문자열 \"cat\"이 튜플(\"dog\", \"cat\", \"bird\", \"hamster\")에 포함되어 있는지 검사하는 프로그램을 작성하라."
   ]
  },
  {
   "cell_type": "code",
   "execution_count": 30,
   "id": "8b3900b2",
   "metadata": {},
   "outputs": [
    {
     "name": "stdout",
     "output_type": "stream",
     "text": [
      "True\n"
     ]
    }
   ],
   "source": [
    "animals = (\"dog\", \"cat\", \"bird\", \"hamster\")\n",
    "print(\"cat\" in animals)"
   ]
  },
  {
   "cell_type": "markdown",
   "id": "dd3bc9b5",
   "metadata": {},
   "source": [
    "5. 숫자 10이 세트 {2, 4, 6, 8, 10}에 포함되어 있는지 검사하는 프로그램을 작성하라."
   ]
  },
  {
   "cell_type": "code",
   "execution_count": 31,
   "id": "a92ff408",
   "metadata": {},
   "outputs": [
    {
     "name": "stdout",
     "output_type": "stream",
     "text": [
      "True\n"
     ]
    }
   ],
   "source": [
    "set = {2, 4, 6, 8, 10}\n",
    "print(10 in set)"
   ]
  },
  {
   "cell_type": "markdown",
   "id": "18928235",
   "metadata": {},
   "source": [
    "---"
   ]
  },
  {
   "cell_type": "markdown",
   "id": "f770bba3",
   "metadata": {},
   "source": [
    "### 연습문제 2"
   ]
  },
  {
   "cell_type": "markdown",
   "id": "23251d3e",
   "metadata": {},
   "source": [
    "1. 초를 입력하면 분과 초로 표시하는 프로그램. 예를 들어, 200초를 입력하면 3분 20초로 표현하라."
   ]
  },
  {
   "cell_type": "code",
   "execution_count": 35,
   "id": "62403bab",
   "metadata": {},
   "outputs": [
    {
     "name": "stdout",
     "output_type": "stream",
     "text": [
      "7분 20초\n"
     ]
    }
   ],
   "source": [
    "sec = int(input('초: '))   #sec = 440\n",
    "min = sec // 60\n",
    "sec = sec % 60\n",
    "print(f'{min}분 {sec}초')"
   ]
  },
  {
   "cell_type": "markdown",
   "id": "8c293d7a",
   "metadata": {},
   "source": [
    "2. 분(min)을 입력하면, 일, 시간, 분으로 출력하는 프로그램을 만들어라. (예 : 1550분은 1일 1시간 50분)"
   ]
  },
  {
   "cell_type": "code",
   "execution_count": 36,
   "id": "192a4983",
   "metadata": {},
   "outputs": [
    {
     "name": "stdout",
     "output_type": "stream",
     "text": [
      "0일 20시간 34분\n"
     ]
    }
   ],
   "source": [
    "min = int(input('분: '))   #min = 1234\n",
    "day = min // 1440\n",
    "min = min % 1440\n",
    "hour = min // 60\n",
    "min = min % 60\n",
    "print(f'{day}일 {hour}시간 {min}분')"
   ]
  },
  {
   "cell_type": "markdown",
   "id": "f21a4adc",
   "metadata": {},
   "source": [
    "3. 500만원을 년이율 5%로 복리 저금했을 때 5년 후의 원리금의 합계를 출력하는 프로그램"
   ]
  },
  {
   "cell_type": "code",
   "execution_count": 37,
   "id": "225ebd94",
   "metadata": {},
   "outputs": [
    {
     "name": "stdout",
     "output_type": "stream",
     "text": [
      "6381408원\n"
     ]
    }
   ],
   "source": [
    "a = 5000000\n",
    "r = 0.05\n",
    "y = 5\n",
    "total = a * (1 + r) ** y\n",
    "print(f'{total:.0f}원')"
   ]
  },
  {
   "cell_type": "markdown",
   "id": "33ff44ed",
   "metadata": {},
   "source": [
    "4. 1부터 n까지의 합은 n(n+1)/2로 주어진다. 1부터 100까지의 합을 구하여 출력하는 프로그램을 작성하고 실행하라."
   ]
  },
  {
   "cell_type": "code",
   "execution_count": 38,
   "id": "f489d941",
   "metadata": {},
   "outputs": [
    {
     "name": "stdout",
     "output_type": "stream",
     "text": [
      "5050.0\n"
     ]
    }
   ],
   "source": [
    "a = 100\n",
    "print(a*(a+1)/2)"
   ]
  },
  {
   "cell_type": "markdown",
   "id": "d77146f5",
   "metadata": {},
   "source": [
    "5. 판매자가 딸기와 포도를 판매하고 있다. 포도 한 알의 무게는 75g이고 딸기 한 알의 무게는 113.5g이다. 사용자로부터 포도 알의 개수와 딸기의 개수를 입력 받아 총 무게를 계산하여 출력하는 프로그램을 작성하고 실행하라."
   ]
  },
  {
   "cell_type": "code",
   "execution_count": 40,
   "id": "7f58c78c",
   "metadata": {},
   "outputs": [
    {
     "name": "stdout",
     "output_type": "stream",
     "text": [
      "총 무게: 2635.0g\n"
     ]
    }
   ],
   "source": [
    "g = 75\n",
    "s = 113.5\n",
    "g_num = int(input('포도 알의 개수: '))   #g_num = 20\n",
    "s_num = int(input('딸기 알의 개수: '))   #s_num = 10\n",
    "total_weight = g * g_num + s * s_num\n",
    "print(f'총 무게: {total_weight:.1f}g')"
   ]
  }
 ],
 "metadata": {
  "kernelspec": {
   "display_name": "base",
   "language": "python",
   "name": "python3"
  },
  "language_info": {
   "codemirror_mode": {
    "name": "ipython",
    "version": 3
   },
   "file_extension": ".py",
   "mimetype": "text/x-python",
   "name": "python",
   "nbconvert_exporter": "python",
   "pygments_lexer": "ipython3",
   "version": "3.11.7"
  }
 },
 "nbformat": 4,
 "nbformat_minor": 5
}
